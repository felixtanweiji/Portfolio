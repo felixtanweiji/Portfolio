{
 "cells": [
  {
   "cell_type": "markdown",
   "id": "9f7e48af",
   "metadata": {},
   "source": [
    "# Table of Contents\n",
    "\n",
    "    1. Introduction\n",
    "    2. Data Loading and Cleaning\n",
    "    3. Text Analysis - Natural Language Processing\n",
    "        3.1 Sentiment Analysis using review data\n",
    "        3.2 Cleaning of text features\n",
    "        3.3 Data preparation for test data\n",
    "        3.4 Padding\n",
    "        3.5 Embedding\n",
    "    4. Model Evaluation\n",
    "        4.1 Linear Regression\n",
    "            4.1.1 Linear Regression without variable selection\n",
    "            4.1.2 Linear Regression with variable selection\n",
    "        4.2 Neural Network\n",
    "            4.2.1 Feedforward Neural Network\n",
    "            4.2.2 Gated Recurrent Unit\n",
    "            4.2.3 Bidirectional Long Short-Term Memory\n",
    "    5. Model Comparison and Selection\n",
    "    6. GRU application to Test Set\n",
    "    7. Conclusion"
   ]
  },
  {
   "cell_type": "markdown",
   "id": "b1315d84",
   "metadata": {},
   "source": [
    "# 1. Introduction\n",
    "\n",
    "The goal of this assignment is to predict Airbnb listings price in London using the techniques learnt in ADAMS (Natural Language Processing and Neural Networks) based on text and non-text features."
   ]
  },
  {
   "cell_type": "code",
   "execution_count": 1,
   "id": "d662a02e",
   "metadata": {},
   "outputs": [],
   "source": [
    "from bs4 import BeautifulSoup\n",
    "from category_encoders import MEstimateEncoder\n",
    "from datetime import date\n",
    "from gensim.models import KeyedVectors\n",
    "from gensim.models.keyedvectors import Word2VecKeyedVectors\n",
    "from keras.callbacks import EarlyStopping\n",
    "from keras.initializers import Constant\n",
    "from keras.layers import Input, concatenate, Dense, Embedding, LSTM, Bidirectional, GRU\n",
    "from keras.models import Model\n",
    "from keras.preprocessing.text import Tokenizer\n",
    "from keras.utils import np_utils\n",
    "from keras_preprocessing.sequence import pad_sequences\n",
    "from nltk.corpus import stopwords\n",
    "from nltk.corpus import wordnet\n",
    "from nltk.stem import WordNetLemmatizer\n",
    "from sklearn.model_selection import train_test_split\n",
    "from sklearn.preprocessing import StandardScaler\n",
    "from spacy.lang.en import English\n",
    "from spacy.language import Language\n",
    "from spacy_langdetect import LanguageDetector\n",
    "from statistics import mode\n",
    "from tensorflow import keras\n",
    "from tensorflow.keras import activations, losses\n",
    "from tensorflow.keras import layers\n",
    "import emot_dictionary as emot\n",
    "import flair\n",
    "import matplotlib.pyplot as plt\n",
    "import nltk\n",
    "import numpy as np\n",
    "import pandas as pd\n",
    "import pysentiment2 as ps\n",
    "import re\n",
    "import seaborn as sns\n",
    "import spacy\n",
    "import statsmodels.api as sm\n",
    "import string\n",
    "import tensorflow as tf\n",
    "import time\n",
    "\n",
    "%matplotlib inline"
   ]
  },
  {
   "cell_type": "markdown",
   "id": "2500e7e1",
   "metadata": {},
   "source": [
    "# 2. Data Loading and cleaning\n",
    "\n",
    "First, the train and test data set as well as the additional reviews data set are loaded and the train data set is splitted into X_train, X_test, y_train and y_test respectively so that model selection could be performed based on X_test and y_test while only using the information from X_train and y_train. Prior to model selection, only information from X_train and y_train will be used for the analysis and prediction and after model selection, X_train and X_test, as well as y_train and y_test could be combined for the prediction task so that the data could be used more efficiently. The dataset can be found on: https://www.kaggle.com/competitions/adams-sose22/data."
   ]
  },
  {
   "cell_type": "code",
   "execution_count": 2,
   "id": "9a9ea219",
   "metadata": {},
   "outputs": [],
   "source": [
    "train = pd.read_csv(\"train.csv\", sep=\",\", encoding = \"utf-8\")\n",
    "test = pd.read_csv(\"test.csv\", sep=\",\", encoding = \"utf-8\")\n",
    "review = pd.read_csv(\"reviews.csv\", sep = \",\", encoding = \"utf-8\")"
   ]
  },
  {
   "cell_type": "code",
   "execution_count": 3,
   "id": "c9f783c2",
   "metadata": {},
   "outputs": [],
   "source": [
    "X = train.drop(\"price\", axis = 1)\n",
    "y = train.price"
   ]
  },
  {
   "cell_type": "code",
   "execution_count": 4,
   "id": "e1116d14",
   "metadata": {},
   "outputs": [],
   "source": [
    "X_train, X_test, y_train, y_test = train_test_split(X, y, test_size = 0.20, random_state = 934)"
   ]
  },
  {
   "cell_type": "markdown",
   "id": "4da4fd5b",
   "metadata": {},
   "source": [
    "After splitting the data, the descriptive statistics and misisng data are being looked into."
   ]
  },
  {
   "cell_type": "code",
   "execution_count": 5,
   "id": "f8fa9a0e",
   "metadata": {
    "scrolled": false
   },
   "outputs": [
    {
     "data": {
      "text/html": [
       "<div>\n",
       "<style scoped>\n",
       "    .dataframe tbody tr th:only-of-type {\n",
       "        vertical-align: middle;\n",
       "    }\n",
       "\n",
       "    .dataframe tbody tr th {\n",
       "        vertical-align: top;\n",
       "    }\n",
       "\n",
       "    .dataframe thead th {\n",
       "        text-align: right;\n",
       "    }\n",
       "</style>\n",
       "<table border=\"1\" class=\"dataframe\">\n",
       "  <thead>\n",
       "    <tr style=\"text-align: right;\">\n",
       "      <th></th>\n",
       "      <th>name</th>\n",
       "      <th>summary</th>\n",
       "      <th>space</th>\n",
       "      <th>description</th>\n",
       "      <th>experiences_offered</th>\n",
       "      <th>neighborhood_overview</th>\n",
       "      <th>transit</th>\n",
       "      <th>house_rules</th>\n",
       "      <th>picture_url</th>\n",
       "      <th>host_id</th>\n",
       "      <th>...</th>\n",
       "      <th>review_scores_rating</th>\n",
       "      <th>review_scores_accuracy</th>\n",
       "      <th>review_scores_cleanliness</th>\n",
       "      <th>review_scores_checkin</th>\n",
       "      <th>review_scores_communication</th>\n",
       "      <th>review_scores_location</th>\n",
       "      <th>review_scores_value</th>\n",
       "      <th>cancellation_policy</th>\n",
       "      <th>reviews_per_month</th>\n",
       "      <th>listing_id</th>\n",
       "    </tr>\n",
       "  </thead>\n",
       "  <tbody>\n",
       "    <tr>\n",
       "      <th>count</th>\n",
       "      <td>44217</td>\n",
       "      <td>41841</td>\n",
       "      <td>30677</td>\n",
       "      <td>42827</td>\n",
       "      <td>44227</td>\n",
       "      <td>28614</td>\n",
       "      <td>28372</td>\n",
       "      <td>25564</td>\n",
       "      <td>44227</td>\n",
       "      <td>4.422700e+04</td>\n",
       "      <td>...</td>\n",
       "      <td>33506.00000</td>\n",
       "      <td>33478.000000</td>\n",
       "      <td>33483.000000</td>\n",
       "      <td>33449.000000</td>\n",
       "      <td>33479.000000</td>\n",
       "      <td>33452.000000</td>\n",
       "      <td>33453.000000</td>\n",
       "      <td>44227</td>\n",
       "      <td>34340.000000</td>\n",
       "      <td>44227</td>\n",
       "    </tr>\n",
       "    <tr>\n",
       "      <th>unique</th>\n",
       "      <td>43381</td>\n",
       "      <td>39552</td>\n",
       "      <td>28769</td>\n",
       "      <td>41448</td>\n",
       "      <td>5</td>\n",
       "      <td>24635</td>\n",
       "      <td>25278</td>\n",
       "      <td>20153</td>\n",
       "      <td>43650</td>\n",
       "      <td>NaN</td>\n",
       "      <td>...</td>\n",
       "      <td>NaN</td>\n",
       "      <td>NaN</td>\n",
       "      <td>NaN</td>\n",
       "      <td>NaN</td>\n",
       "      <td>NaN</td>\n",
       "      <td>NaN</td>\n",
       "      <td>NaN</td>\n",
       "      <td>8</td>\n",
       "      <td>NaN</td>\n",
       "      <td>44227</td>\n",
       "    </tr>\n",
       "    <tr>\n",
       "      <th>top</th>\n",
       "      <td>Double room</td>\n",
       "      <td>Featured in The New York Times, The Wall Stree...</td>\n",
       "      <td>Situated in an excellent central location. Tow...</td>\n",
       "      <td>My Luxury Two Bedroom apartment is located min...</td>\n",
       "      <td>none</td>\n",
       "      <td>Conveniently located in Maida Vale one of Lond...</td>\n",
       "      <td>Transport links are excellent with convenient ...</td>\n",
       "      <td>- The lead guest will be required to sign an O...</td>\n",
       "      <td>https://a0.muscache.com/im/pictures/d029c664-c...</td>\n",
       "      <td>NaN</td>\n",
       "      <td>...</td>\n",
       "      <td>NaN</td>\n",
       "      <td>NaN</td>\n",
       "      <td>NaN</td>\n",
       "      <td>NaN</td>\n",
       "      <td>NaN</td>\n",
       "      <td>NaN</td>\n",
       "      <td>NaN</td>\n",
       "      <td>strict_14_with_grace_period</td>\n",
       "      <td>NaN</td>\n",
       "      <td>JYEVUNA9PH</td>\n",
       "    </tr>\n",
       "    <tr>\n",
       "      <th>freq</th>\n",
       "      <td>23</td>\n",
       "      <td>104</td>\n",
       "      <td>15</td>\n",
       "      <td>14</td>\n",
       "      <td>43366</td>\n",
       "      <td>32</td>\n",
       "      <td>36</td>\n",
       "      <td>167</td>\n",
       "      <td>6</td>\n",
       "      <td>NaN</td>\n",
       "      <td>...</td>\n",
       "      <td>NaN</td>\n",
       "      <td>NaN</td>\n",
       "      <td>NaN</td>\n",
       "      <td>NaN</td>\n",
       "      <td>NaN</td>\n",
       "      <td>NaN</td>\n",
       "      <td>NaN</td>\n",
       "      <td>19240</td>\n",
       "      <td>NaN</td>\n",
       "      <td>1</td>\n",
       "    </tr>\n",
       "    <tr>\n",
       "      <th>mean</th>\n",
       "      <td>NaN</td>\n",
       "      <td>NaN</td>\n",
       "      <td>NaN</td>\n",
       "      <td>NaN</td>\n",
       "      <td>NaN</td>\n",
       "      <td>NaN</td>\n",
       "      <td>NaN</td>\n",
       "      <td>NaN</td>\n",
       "      <td>NaN</td>\n",
       "      <td>8.818925e+07</td>\n",
       "      <td>...</td>\n",
       "      <td>92.54062</td>\n",
       "      <td>9.504391</td>\n",
       "      <td>9.262880</td>\n",
       "      <td>9.623128</td>\n",
       "      <td>9.653693</td>\n",
       "      <td>9.538682</td>\n",
       "      <td>9.264371</td>\n",
       "      <td>NaN</td>\n",
       "      <td>1.171109</td>\n",
       "      <td>NaN</td>\n",
       "    </tr>\n",
       "    <tr>\n",
       "      <th>std</th>\n",
       "      <td>NaN</td>\n",
       "      <td>NaN</td>\n",
       "      <td>NaN</td>\n",
       "      <td>NaN</td>\n",
       "      <td>NaN</td>\n",
       "      <td>NaN</td>\n",
       "      <td>NaN</td>\n",
       "      <td>NaN</td>\n",
       "      <td>NaN</td>\n",
       "      <td>9.018841e+07</td>\n",
       "      <td>...</td>\n",
       "      <td>10.07104</td>\n",
       "      <td>0.979810</td>\n",
       "      <td>1.137731</td>\n",
       "      <td>0.894640</td>\n",
       "      <td>0.872253</td>\n",
       "      <td>0.813971</td>\n",
       "      <td>1.032474</td>\n",
       "      <td>NaN</td>\n",
       "      <td>1.362198</td>\n",
       "      <td>NaN</td>\n",
       "    </tr>\n",
       "    <tr>\n",
       "      <th>min</th>\n",
       "      <td>NaN</td>\n",
       "      <td>NaN</td>\n",
       "      <td>NaN</td>\n",
       "      <td>NaN</td>\n",
       "      <td>NaN</td>\n",
       "      <td>NaN</td>\n",
       "      <td>NaN</td>\n",
       "      <td>NaN</td>\n",
       "      <td>NaN</td>\n",
       "      <td>2.697000e+03</td>\n",
       "      <td>...</td>\n",
       "      <td>20.00000</td>\n",
       "      <td>2.000000</td>\n",
       "      <td>2.000000</td>\n",
       "      <td>2.000000</td>\n",
       "      <td>2.000000</td>\n",
       "      <td>2.000000</td>\n",
       "      <td>2.000000</td>\n",
       "      <td>NaN</td>\n",
       "      <td>0.010000</td>\n",
       "      <td>NaN</td>\n",
       "    </tr>\n",
       "    <tr>\n",
       "      <th>25%</th>\n",
       "      <td>NaN</td>\n",
       "      <td>NaN</td>\n",
       "      <td>NaN</td>\n",
       "      <td>NaN</td>\n",
       "      <td>NaN</td>\n",
       "      <td>NaN</td>\n",
       "      <td>NaN</td>\n",
       "      <td>NaN</td>\n",
       "      <td>NaN</td>\n",
       "      <td>1.513013e+07</td>\n",
       "      <td>...</td>\n",
       "      <td>90.00000</td>\n",
       "      <td>9.000000</td>\n",
       "      <td>9.000000</td>\n",
       "      <td>10.000000</td>\n",
       "      <td>10.000000</td>\n",
       "      <td>9.000000</td>\n",
       "      <td>9.000000</td>\n",
       "      <td>NaN</td>\n",
       "      <td>0.240000</td>\n",
       "      <td>NaN</td>\n",
       "    </tr>\n",
       "    <tr>\n",
       "      <th>50%</th>\n",
       "      <td>NaN</td>\n",
       "      <td>NaN</td>\n",
       "      <td>NaN</td>\n",
       "      <td>NaN</td>\n",
       "      <td>NaN</td>\n",
       "      <td>NaN</td>\n",
       "      <td>NaN</td>\n",
       "      <td>NaN</td>\n",
       "      <td>NaN</td>\n",
       "      <td>4.816502e+07</td>\n",
       "      <td>...</td>\n",
       "      <td>96.00000</td>\n",
       "      <td>10.000000</td>\n",
       "      <td>10.000000</td>\n",
       "      <td>10.000000</td>\n",
       "      <td>10.000000</td>\n",
       "      <td>10.000000</td>\n",
       "      <td>9.000000</td>\n",
       "      <td>NaN</td>\n",
       "      <td>0.730000</td>\n",
       "      <td>NaN</td>\n",
       "    </tr>\n",
       "    <tr>\n",
       "      <th>75%</th>\n",
       "      <td>NaN</td>\n",
       "      <td>NaN</td>\n",
       "      <td>NaN</td>\n",
       "      <td>NaN</td>\n",
       "      <td>NaN</td>\n",
       "      <td>NaN</td>\n",
       "      <td>NaN</td>\n",
       "      <td>NaN</td>\n",
       "      <td>NaN</td>\n",
       "      <td>1.449555e+08</td>\n",
       "      <td>...</td>\n",
       "      <td>100.00000</td>\n",
       "      <td>10.000000</td>\n",
       "      <td>10.000000</td>\n",
       "      <td>10.000000</td>\n",
       "      <td>10.000000</td>\n",
       "      <td>10.000000</td>\n",
       "      <td>10.000000</td>\n",
       "      <td>NaN</td>\n",
       "      <td>1.580000</td>\n",
       "      <td>NaN</td>\n",
       "    </tr>\n",
       "    <tr>\n",
       "      <th>max</th>\n",
       "      <td>NaN</td>\n",
       "      <td>NaN</td>\n",
       "      <td>NaN</td>\n",
       "      <td>NaN</td>\n",
       "      <td>NaN</td>\n",
       "      <td>NaN</td>\n",
       "      <td>NaN</td>\n",
       "      <td>NaN</td>\n",
       "      <td>NaN</td>\n",
       "      <td>3.256719e+08</td>\n",
       "      <td>...</td>\n",
       "      <td>100.00000</td>\n",
       "      <td>10.000000</td>\n",
       "      <td>10.000000</td>\n",
       "      <td>10.000000</td>\n",
       "      <td>10.000000</td>\n",
       "      <td>10.000000</td>\n",
       "      <td>10.000000</td>\n",
       "      <td>NaN</td>\n",
       "      <td>22.040000</td>\n",
       "      <td>NaN</td>\n",
       "    </tr>\n",
       "  </tbody>\n",
       "</table>\n",
       "<p>11 rows × 41 columns</p>\n",
       "</div>"
      ],
      "text/plain": [
       "               name                                            summary  \\\n",
       "count         44217                                              41841   \n",
       "unique        43381                                              39552   \n",
       "top     Double room  Featured in The New York Times, The Wall Stree...   \n",
       "freq             23                                                104   \n",
       "mean            NaN                                                NaN   \n",
       "std             NaN                                                NaN   \n",
       "min             NaN                                                NaN   \n",
       "25%             NaN                                                NaN   \n",
       "50%             NaN                                                NaN   \n",
       "75%             NaN                                                NaN   \n",
       "max             NaN                                                NaN   \n",
       "\n",
       "                                                    space  \\\n",
       "count                                               30677   \n",
       "unique                                              28769   \n",
       "top     Situated in an excellent central location. Tow...   \n",
       "freq                                                   15   \n",
       "mean                                                  NaN   \n",
       "std                                                   NaN   \n",
       "min                                                   NaN   \n",
       "25%                                                   NaN   \n",
       "50%                                                   NaN   \n",
       "75%                                                   NaN   \n",
       "max                                                   NaN   \n",
       "\n",
       "                                              description experiences_offered  \\\n",
       "count                                               42827               44227   \n",
       "unique                                              41448                   5   \n",
       "top     My Luxury Two Bedroom apartment is located min...                none   \n",
       "freq                                                   14               43366   \n",
       "mean                                                  NaN                 NaN   \n",
       "std                                                   NaN                 NaN   \n",
       "min                                                   NaN                 NaN   \n",
       "25%                                                   NaN                 NaN   \n",
       "50%                                                   NaN                 NaN   \n",
       "75%                                                   NaN                 NaN   \n",
       "max                                                   NaN                 NaN   \n",
       "\n",
       "                                    neighborhood_overview  \\\n",
       "count                                               28614   \n",
       "unique                                              24635   \n",
       "top     Conveniently located in Maida Vale one of Lond...   \n",
       "freq                                                   32   \n",
       "mean                                                  NaN   \n",
       "std                                                   NaN   \n",
       "min                                                   NaN   \n",
       "25%                                                   NaN   \n",
       "50%                                                   NaN   \n",
       "75%                                                   NaN   \n",
       "max                                                   NaN   \n",
       "\n",
       "                                                  transit  \\\n",
       "count                                               28372   \n",
       "unique                                              25278   \n",
       "top     Transport links are excellent with convenient ...   \n",
       "freq                                                   36   \n",
       "mean                                                  NaN   \n",
       "std                                                   NaN   \n",
       "min                                                   NaN   \n",
       "25%                                                   NaN   \n",
       "50%                                                   NaN   \n",
       "75%                                                   NaN   \n",
       "max                                                   NaN   \n",
       "\n",
       "                                              house_rules  \\\n",
       "count                                               25564   \n",
       "unique                                              20153   \n",
       "top     - The lead guest will be required to sign an O...   \n",
       "freq                                                  167   \n",
       "mean                                                  NaN   \n",
       "std                                                   NaN   \n",
       "min                                                   NaN   \n",
       "25%                                                   NaN   \n",
       "50%                                                   NaN   \n",
       "75%                                                   NaN   \n",
       "max                                                   NaN   \n",
       "\n",
       "                                              picture_url       host_id  ...  \\\n",
       "count                                               44227  4.422700e+04  ...   \n",
       "unique                                              43650           NaN  ...   \n",
       "top     https://a0.muscache.com/im/pictures/d029c664-c...           NaN  ...   \n",
       "freq                                                    6           NaN  ...   \n",
       "mean                                                  NaN  8.818925e+07  ...   \n",
       "std                                                   NaN  9.018841e+07  ...   \n",
       "min                                                   NaN  2.697000e+03  ...   \n",
       "25%                                                   NaN  1.513013e+07  ...   \n",
       "50%                                                   NaN  4.816502e+07  ...   \n",
       "75%                                                   NaN  1.449555e+08  ...   \n",
       "max                                                   NaN  3.256719e+08  ...   \n",
       "\n",
       "       review_scores_rating review_scores_accuracy review_scores_cleanliness  \\\n",
       "count           33506.00000           33478.000000              33483.000000   \n",
       "unique                  NaN                    NaN                       NaN   \n",
       "top                     NaN                    NaN                       NaN   \n",
       "freq                    NaN                    NaN                       NaN   \n",
       "mean               92.54062               9.504391                  9.262880   \n",
       "std                10.07104               0.979810                  1.137731   \n",
       "min                20.00000               2.000000                  2.000000   \n",
       "25%                90.00000               9.000000                  9.000000   \n",
       "50%                96.00000              10.000000                 10.000000   \n",
       "75%               100.00000              10.000000                 10.000000   \n",
       "max               100.00000              10.000000                 10.000000   \n",
       "\n",
       "       review_scores_checkin  review_scores_communication  \\\n",
       "count           33449.000000                 33479.000000   \n",
       "unique                   NaN                          NaN   \n",
       "top                      NaN                          NaN   \n",
       "freq                     NaN                          NaN   \n",
       "mean                9.623128                     9.653693   \n",
       "std                 0.894640                     0.872253   \n",
       "min                 2.000000                     2.000000   \n",
       "25%                10.000000                    10.000000   \n",
       "50%                10.000000                    10.000000   \n",
       "75%                10.000000                    10.000000   \n",
       "max                10.000000                    10.000000   \n",
       "\n",
       "       review_scores_location review_scores_value  \\\n",
       "count            33452.000000        33453.000000   \n",
       "unique                    NaN                 NaN   \n",
       "top                       NaN                 NaN   \n",
       "freq                      NaN                 NaN   \n",
       "mean                 9.538682            9.264371   \n",
       "std                  0.813971            1.032474   \n",
       "min                  2.000000            2.000000   \n",
       "25%                  9.000000            9.000000   \n",
       "50%                 10.000000            9.000000   \n",
       "75%                 10.000000           10.000000   \n",
       "max                 10.000000           10.000000   \n",
       "\n",
       "                cancellation_policy reviews_per_month  listing_id  \n",
       "count                         44227      34340.000000       44227  \n",
       "unique                            8               NaN       44227  \n",
       "top     strict_14_with_grace_period               NaN  JYEVUNA9PH  \n",
       "freq                          19240               NaN           1  \n",
       "mean                            NaN          1.171109         NaN  \n",
       "std                             NaN          1.362198         NaN  \n",
       "min                             NaN          0.010000         NaN  \n",
       "25%                             NaN          0.240000         NaN  \n",
       "50%                             NaN          0.730000         NaN  \n",
       "75%                             NaN          1.580000         NaN  \n",
       "max                             NaN         22.040000         NaN  \n",
       "\n",
       "[11 rows x 41 columns]"
      ]
     },
     "execution_count": 5,
     "metadata": {},
     "output_type": "execute_result"
    }
   ],
   "source": [
    "X_train.describe(include = 'all')"
   ]
  },
  {
   "cell_type": "code",
   "execution_count": 6,
   "id": "f2bc7102",
   "metadata": {},
   "outputs": [
    {
     "data": {
      "text/plain": [
       "<AxesSubplot:>"
      ]
     },
     "execution_count": 6,
     "metadata": {},
     "output_type": "execute_result"
    },
    {
     "data": {
      "image/png": "[encoded data removed]",
      "text/plain": [
       "<Figure size 432x288 with 1 Axes>"
      ]
     },
     "metadata": {
      "needs_background": "light"
     },
     "output_type": "display_data"
    }
   ],
   "source": [
    "sns.heatmap(X_train.isnull(), cbar = False)"
   ]
  },
  {
   "cell_type": "code",
   "execution_count": 7,
   "id": "dba7dbd4",
   "metadata": {
    "scrolled": false
   },
   "outputs": [
    {
     "data": {
      "text/plain": [
       "name                           0.000226\n",
       "summary                        0.053949\n",
       "space                          0.306374\n",
       "description                    0.031655\n",
       "experiences_offered            0.000000\n",
       "neighborhood_overview          0.353020\n",
       "transit                        0.358491\n",
       "house_rules                    0.421982\n",
       "picture_url                    0.000000\n",
       "host_id                        0.000000\n",
       "host_since                     0.002035\n",
       "host_response_time             0.320551\n",
       "host_response_rate             0.320551\n",
       "host_is_superhost              0.002035\n",
       "host_total_listings_count      0.002035\n",
       "host_has_profile_pic           0.002035\n",
       "host_identity_verified         0.002035\n",
       "neighbourhood                  0.002623\n",
       "neighbourhood_cleansed         0.000000\n",
       "zipcode                        0.022905\n",
       "latitude                       0.000000\n",
       "longitude                      0.000000\n",
       "property_type                  0.000000\n",
       "room_type                      0.000000\n",
       "accommodates                   0.000000\n",
       "bathrooms                      0.001289\n",
       "bedrooms                       0.001085\n",
       "beds                           0.004839\n",
       "bed_type                       0.000000\n",
       "amenities                      0.000000\n",
       "guests_included                0.000000\n",
       "review_scores_rating           0.242408\n",
       "review_scores_accuracy         0.243042\n",
       "review_scores_cleanliness      0.242929\n",
       "review_scores_checkin          0.243697\n",
       "review_scores_communication    0.243019\n",
       "review_scores_location         0.243629\n",
       "review_scores_value            0.243607\n",
       "cancellation_policy            0.000000\n",
       "reviews_per_month              0.223551\n",
       "listing_id                     0.000000\n",
       "dtype: float64"
      ]
     },
     "execution_count": 7,
     "metadata": {},
     "output_type": "execute_result"
    }
   ],
   "source": [
    "X_train.isnull().sum()/X_train.shape[0]"
   ]
  },
  {
   "cell_type": "markdown",
   "id": "605eeb89",
   "metadata": {},
   "source": [
    "Upon inspecting the null values in the data set, noticed that space, neighnorhood_overview, transit, house_rules, host_response_time, host_response_rate, and several reviews related variables have about 20 - 40% missing data and so it is not a good idea to predict result based on these variables. They are therefore excluded from the data sets.\n",
    "\n",
    "Several other variables such as image and geographical data are excluded because the type of data would not be analysed here. 'neighbourhood_cleansed' are exlcuded because it is similar to 'neighbourhood' and contain less information. 'host_id' and 'listing_id' are excluded because they are not relevant for price prediction. listing_id is saved to be used later as key id for inner join with the result from sentiment analysis"
   ]
  },
  {
   "cell_type": "code",
   "execution_count": 8,
   "id": "26deedcc",
   "metadata": {},
   "outputs": [],
   "source": [
    "missing_rate = X_train.isnull().sum()/X_train.shape[0]\n",
    "missing_drop = list(missing_rate[missing_rate > 0.2].index)\n",
    "X_train = X_train.drop(missing_drop, axis = 1)"
   ]
  },
  {
   "cell_type": "code",
   "execution_count": 9,
   "id": "01eca603",
   "metadata": {},
   "outputs": [],
   "source": [
    "for df in [X_train, X_test, y_train, y_test, test]:\n",
    "    df.reset_index(drop=True, inplace=True)\n",
    "\n",
    "X_train_listing_id = X_train.listing_id \n",
    "X_test_listing_id = X_test.listing_id\n",
    "test_listing_id = test.listing_id"
   ]
  },
  {
   "cell_type": "code",
   "execution_count": 10,
   "id": "725524ae",
   "metadata": {},
   "outputs": [],
   "source": [
    "X_train = X_train.drop([\"picture_url\", \"host_id\", \"neighbourhood_cleansed\", \"zipcode\", \"latitude\",\n",
    "                    \"longitude\", \"listing_id\"], axis = 1)"
   ]
  },
  {
   "cell_type": "markdown",
   "id": "7cc154e7",
   "metadata": {},
   "source": [
    "For text and categorical variables, the missing values could be filled in as a new category or text: 'Missing', while mode is used to fill in the missing value for the variable \"host_since\" (date variable), 'host_total_listings_count', 'host_is_superhost', 'host_has_profile_pic', 'host_identity_verified', 'bathrooms', 'bedrooms', 'beds'."
   ]
  },
  {
   "cell_type": "code",
   "execution_count": 12,
   "id": "e2e9adda",
   "metadata": {},
   "outputs": [],
   "source": [
    "for text_col in ['name', 'summary', 'description', 'neighbourhood', 'bed_type', 'amenities']:\n",
    "    \n",
    "    X_train[text_col].fillna('Missing', inplace = True, downcast = 'infer')"
   ]
  },
  {
   "cell_type": "code",
   "execution_count": 13,
   "id": "cb5b8b17",
   "metadata": {},
   "outputs": [],
   "source": [
    "for col in ['host_since', 'host_total_listings_count','host_is_superhost','host_has_profile_pic', \n",
    "            'host_identity_verified', 'bathrooms', 'bedrooms', 'beds']:\n",
    "     X_train.loc[X_train[col].isnull() == True, col] = mode(X_train[col])"
   ]
  },
  {
   "cell_type": "markdown",
   "id": "3124716f",
   "metadata": {},
   "source": [
    "Another quick overview of the data set reveals that several of the variables are not in appropriate data type, and thus they are being transformed into suitable data type."
   ]
  },
  {
   "cell_type": "code",
   "execution_count": 14,
   "id": "b7e26d0a",
   "metadata": {
    "scrolled": false
   },
   "outputs": [
    {
     "name": "stdout",
     "output_type": "stream",
     "text": [
      "<class 'pandas.core.frame.DataFrame'>\n",
      "RangeIndex: 44227 entries, 0 to 44226\n",
      "Data columns (total 20 columns):\n",
      " #   Column                     Non-Null Count  Dtype  \n",
      "---  ------                     --------------  -----  \n",
      " 0   name                       44227 non-null  object \n",
      " 1   summary                    44227 non-null  object \n",
      " 2   description                44227 non-null  object \n",
      " 3   experiences_offered        44227 non-null  object \n",
      " 4   host_since                 44227 non-null  object \n",
      " 5   host_is_superhost          44227 non-null  object \n",
      " 6   host_total_listings_count  44227 non-null  float64\n",
      " 7   host_has_profile_pic       44227 non-null  object \n",
      " 8   host_identity_verified     44227 non-null  object \n",
      " 9   neighbourhood              44227 non-null  object \n",
      " 10  property_type              44227 non-null  object \n",
      " 11  room_type                  44227 non-null  object \n",
      " 12  accommodates               44227 non-null  int64  \n",
      " 13  bathrooms                  44227 non-null  float64\n",
      " 14  bedrooms                   44227 non-null  float64\n",
      " 15  beds                       44227 non-null  float64\n",
      " 16  bed_type                   44227 non-null  object \n",
      " 17  amenities                  44227 non-null  object \n",
      " 18  guests_included            44227 non-null  int64  \n",
      " 19  cancellation_policy        44227 non-null  object \n",
      "dtypes: float64(4), int64(2), object(14)\n",
      "memory usage: 6.7+ MB\n"
     ]
    }
   ],
   "source": [
    "X_train.info()"
   ]
  },
  {
   "cell_type": "code",
   "execution_count": 15,
   "id": "0e0377fd",
   "metadata": {},
   "outputs": [
    {
     "data": {
      "text/html": [
       "<div>\n",
       "<style scoped>\n",
       "    .dataframe tbody tr th:only-of-type {\n",
       "        vertical-align: middle;\n",
       "    }\n",
       "\n",
       "    .dataframe tbody tr th {\n",
       "        vertical-align: top;\n",
       "    }\n",
       "\n",
       "    .dataframe thead th {\n",
       "        text-align: right;\n",
       "    }\n",
       "</style>\n",
       "<table border=\"1\" class=\"dataframe\">\n",
       "  <thead>\n",
       "    <tr style=\"text-align: right;\">\n",
       "      <th></th>\n",
       "      <th>name</th>\n",
       "      <th>summary</th>\n",
       "      <th>description</th>\n",
       "      <th>experiences_offered</th>\n",
       "      <th>host_since</th>\n",
       "      <th>host_is_superhost</th>\n",
       "      <th>host_total_listings_count</th>\n",
       "      <th>host_has_profile_pic</th>\n",
       "      <th>host_identity_verified</th>\n",
       "      <th>neighbourhood</th>\n",
       "      <th>property_type</th>\n",
       "      <th>room_type</th>\n",
       "      <th>accommodates</th>\n",
       "      <th>bathrooms</th>\n",
       "      <th>bedrooms</th>\n",
       "      <th>beds</th>\n",
       "      <th>bed_type</th>\n",
       "      <th>amenities</th>\n",
       "      <th>guests_included</th>\n",
       "      <th>cancellation_policy</th>\n",
       "    </tr>\n",
       "  </thead>\n",
       "  <tbody>\n",
       "    <tr>\n",
       "      <th>count</th>\n",
       "      <td>44227</td>\n",
       "      <td>44227</td>\n",
       "      <td>44227</td>\n",
       "      <td>44227</td>\n",
       "      <td>44227</td>\n",
       "      <td>44227</td>\n",
       "      <td>44227.000000</td>\n",
       "      <td>44227</td>\n",
       "      <td>44227</td>\n",
       "      <td>44227</td>\n",
       "      <td>44227</td>\n",
       "      <td>44227</td>\n",
       "      <td>44227.000000</td>\n",
       "      <td>44227.000000</td>\n",
       "      <td>44227.000000</td>\n",
       "      <td>44227.000000</td>\n",
       "      <td>44227</td>\n",
       "      <td>44227</td>\n",
       "      <td>44227.000000</td>\n",
       "      <td>44227</td>\n",
       "    </tr>\n",
       "    <tr>\n",
       "      <th>unique</th>\n",
       "      <td>43382</td>\n",
       "      <td>39553</td>\n",
       "      <td>41449</td>\n",
       "      <td>5</td>\n",
       "      <td>3415</td>\n",
       "      <td>2</td>\n",
       "      <td>NaN</td>\n",
       "      <td>2</td>\n",
       "      <td>2</td>\n",
       "      <td>150</td>\n",
       "      <td>37</td>\n",
       "      <td>4</td>\n",
       "      <td>NaN</td>\n",
       "      <td>NaN</td>\n",
       "      <td>NaN</td>\n",
       "      <td>NaN</td>\n",
       "      <td>5</td>\n",
       "      <td>40696</td>\n",
       "      <td>NaN</td>\n",
       "      <td>8</td>\n",
       "    </tr>\n",
       "    <tr>\n",
       "      <th>top</th>\n",
       "      <td>Double room</td>\n",
       "      <td>Missing</td>\n",
       "      <td>Missing</td>\n",
       "      <td>none</td>\n",
       "      <td>2015-05-21</td>\n",
       "      <td>f</td>\n",
       "      <td>NaN</td>\n",
       "      <td>t</td>\n",
       "      <td>f</td>\n",
       "      <td>City of Westminster</td>\n",
       "      <td>Apartment</td>\n",
       "      <td>Entire home/apt</td>\n",
       "      <td>NaN</td>\n",
       "      <td>NaN</td>\n",
       "      <td>NaN</td>\n",
       "      <td>NaN</td>\n",
       "      <td>Real Bed</td>\n",
       "      <td>{}</td>\n",
       "      <td>NaN</td>\n",
       "      <td>strict_14_with_grace_period</td>\n",
       "    </tr>\n",
       "    <tr>\n",
       "      <th>freq</th>\n",
       "      <td>23</td>\n",
       "      <td>2386</td>\n",
       "      <td>1400</td>\n",
       "      <td>43366</td>\n",
       "      <td>415</td>\n",
       "      <td>37617</td>\n",
       "      <td>NaN</td>\n",
       "      <td>44099</td>\n",
       "      <td>28404</td>\n",
       "      <td>2615</td>\n",
       "      <td>29629</td>\n",
       "      <td>24386</td>\n",
       "      <td>NaN</td>\n",
       "      <td>NaN</td>\n",
       "      <td>NaN</td>\n",
       "      <td>NaN</td>\n",
       "      <td>43882</td>\n",
       "      <td>174</td>\n",
       "      <td>NaN</td>\n",
       "      <td>19240</td>\n",
       "    </tr>\n",
       "    <tr>\n",
       "      <th>mean</th>\n",
       "      <td>NaN</td>\n",
       "      <td>NaN</td>\n",
       "      <td>NaN</td>\n",
       "      <td>NaN</td>\n",
       "      <td>NaN</td>\n",
       "      <td>NaN</td>\n",
       "      <td>20.470256</td>\n",
       "      <td>NaN</td>\n",
       "      <td>NaN</td>\n",
       "      <td>NaN</td>\n",
       "      <td>NaN</td>\n",
       "      <td>NaN</td>\n",
       "      <td>3.127547</td>\n",
       "      <td>1.283277</td>\n",
       "      <td>1.370995</td>\n",
       "      <td>1.704886</td>\n",
       "      <td>NaN</td>\n",
       "      <td>NaN</td>\n",
       "      <td>1.573383</td>\n",
       "      <td>NaN</td>\n",
       "    </tr>\n",
       "    <tr>\n",
       "      <th>std</th>\n",
       "      <td>NaN</td>\n",
       "      <td>NaN</td>\n",
       "      <td>NaN</td>\n",
       "      <td>NaN</td>\n",
       "      <td>NaN</td>\n",
       "      <td>NaN</td>\n",
       "      <td>116.016019</td>\n",
       "      <td>NaN</td>\n",
       "      <td>NaN</td>\n",
       "      <td>NaN</td>\n",
       "      <td>NaN</td>\n",
       "      <td>NaN</td>\n",
       "      <td>1.924169</td>\n",
       "      <td>0.569279</td>\n",
       "      <td>0.855693</td>\n",
       "      <td>1.220817</td>\n",
       "      <td>NaN</td>\n",
       "      <td>NaN</td>\n",
       "      <td>1.263417</td>\n",
       "      <td>NaN</td>\n",
       "    </tr>\n",
       "    <tr>\n",
       "      <th>min</th>\n",
       "      <td>NaN</td>\n",
       "      <td>NaN</td>\n",
       "      <td>NaN</td>\n",
       "      <td>NaN</td>\n",
       "      <td>NaN</td>\n",
       "      <td>NaN</td>\n",
       "      <td>0.000000</td>\n",
       "      <td>NaN</td>\n",
       "      <td>NaN</td>\n",
       "      <td>NaN</td>\n",
       "      <td>NaN</td>\n",
       "      <td>NaN</td>\n",
       "      <td>1.000000</td>\n",
       "      <td>0.000000</td>\n",
       "      <td>0.000000</td>\n",
       "      <td>0.000000</td>\n",
       "      <td>NaN</td>\n",
       "      <td>NaN</td>\n",
       "      <td>1.000000</td>\n",
       "      <td>NaN</td>\n",
       "    </tr>\n",
       "    <tr>\n",
       "      <th>25%</th>\n",
       "      <td>NaN</td>\n",
       "      <td>NaN</td>\n",
       "      <td>NaN</td>\n",
       "      <td>NaN</td>\n",
       "      <td>NaN</td>\n",
       "      <td>NaN</td>\n",
       "      <td>1.000000</td>\n",
       "      <td>NaN</td>\n",
       "      <td>NaN</td>\n",
       "      <td>NaN</td>\n",
       "      <td>NaN</td>\n",
       "      <td>NaN</td>\n",
       "      <td>2.000000</td>\n",
       "      <td>1.000000</td>\n",
       "      <td>1.000000</td>\n",
       "      <td>1.000000</td>\n",
       "      <td>NaN</td>\n",
       "      <td>NaN</td>\n",
       "      <td>1.000000</td>\n",
       "      <td>NaN</td>\n",
       "    </tr>\n",
       "    <tr>\n",
       "      <th>50%</th>\n",
       "      <td>NaN</td>\n",
       "      <td>NaN</td>\n",
       "      <td>NaN</td>\n",
       "      <td>NaN</td>\n",
       "      <td>NaN</td>\n",
       "      <td>NaN</td>\n",
       "      <td>1.000000</td>\n",
       "      <td>NaN</td>\n",
       "      <td>NaN</td>\n",
       "      <td>NaN</td>\n",
       "      <td>NaN</td>\n",
       "      <td>NaN</td>\n",
       "      <td>2.000000</td>\n",
       "      <td>1.000000</td>\n",
       "      <td>1.000000</td>\n",
       "      <td>1.000000</td>\n",
       "      <td>NaN</td>\n",
       "      <td>NaN</td>\n",
       "      <td>1.000000</td>\n",
       "      <td>NaN</td>\n",
       "    </tr>\n",
       "    <tr>\n",
       "      <th>75%</th>\n",
       "      <td>NaN</td>\n",
       "      <td>NaN</td>\n",
       "      <td>NaN</td>\n",
       "      <td>NaN</td>\n",
       "      <td>NaN</td>\n",
       "      <td>NaN</td>\n",
       "      <td>5.000000</td>\n",
       "      <td>NaN</td>\n",
       "      <td>NaN</td>\n",
       "      <td>NaN</td>\n",
       "      <td>NaN</td>\n",
       "      <td>NaN</td>\n",
       "      <td>4.000000</td>\n",
       "      <td>1.500000</td>\n",
       "      <td>2.000000</td>\n",
       "      <td>2.000000</td>\n",
       "      <td>NaN</td>\n",
       "      <td>NaN</td>\n",
       "      <td>2.000000</td>\n",
       "      <td>NaN</td>\n",
       "    </tr>\n",
       "    <tr>\n",
       "      <th>max</th>\n",
       "      <td>NaN</td>\n",
       "      <td>NaN</td>\n",
       "      <td>NaN</td>\n",
       "      <td>NaN</td>\n",
       "      <td>NaN</td>\n",
       "      <td>NaN</td>\n",
       "      <td>1321.000000</td>\n",
       "      <td>NaN</td>\n",
       "      <td>NaN</td>\n",
       "      <td>NaN</td>\n",
       "      <td>NaN</td>\n",
       "      <td>NaN</td>\n",
       "      <td>16.000000</td>\n",
       "      <td>11.000000</td>\n",
       "      <td>19.000000</td>\n",
       "      <td>21.000000</td>\n",
       "      <td>NaN</td>\n",
       "      <td>NaN</td>\n",
       "      <td>46.000000</td>\n",
       "      <td>NaN</td>\n",
       "    </tr>\n",
       "  </tbody>\n",
       "</table>\n",
       "</div>"
      ],
      "text/plain": [
       "               name  summary description experiences_offered  host_since  \\\n",
       "count         44227    44227       44227               44227       44227   \n",
       "unique        43382    39553       41449                   5        3415   \n",
       "top     Double room  Missing     Missing                none  2015-05-21   \n",
       "freq             23     2386        1400               43366         415   \n",
       "mean            NaN      NaN         NaN                 NaN         NaN   \n",
       "std             NaN      NaN         NaN                 NaN         NaN   \n",
       "min             NaN      NaN         NaN                 NaN         NaN   \n",
       "25%             NaN      NaN         NaN                 NaN         NaN   \n",
       "50%             NaN      NaN         NaN                 NaN         NaN   \n",
       "75%             NaN      NaN         NaN                 NaN         NaN   \n",
       "max             NaN      NaN         NaN                 NaN         NaN   \n",
       "\n",
       "       host_is_superhost  host_total_listings_count host_has_profile_pic  \\\n",
       "count              44227               44227.000000                44227   \n",
       "unique                 2                        NaN                    2   \n",
       "top                    f                        NaN                    t   \n",
       "freq               37617                        NaN                44099   \n",
       "mean                 NaN                  20.470256                  NaN   \n",
       "std                  NaN                 116.016019                  NaN   \n",
       "min                  NaN                   0.000000                  NaN   \n",
       "25%                  NaN                   1.000000                  NaN   \n",
       "50%                  NaN                   1.000000                  NaN   \n",
       "75%                  NaN                   5.000000                  NaN   \n",
       "max                  NaN                1321.000000                  NaN   \n",
       "\n",
       "       host_identity_verified        neighbourhood property_type  \\\n",
       "count                   44227                44227         44227   \n",
       "unique                      2                  150            37   \n",
       "top                         f  City of Westminster     Apartment   \n",
       "freq                    28404                 2615         29629   \n",
       "mean                      NaN                  NaN           NaN   \n",
       "std                       NaN                  NaN           NaN   \n",
       "min                       NaN                  NaN           NaN   \n",
       "25%                       NaN                  NaN           NaN   \n",
       "50%                       NaN                  NaN           NaN   \n",
       "75%                       NaN                  NaN           NaN   \n",
       "max                       NaN                  NaN           NaN   \n",
       "\n",
       "              room_type  accommodates     bathrooms      bedrooms  \\\n",
       "count             44227  44227.000000  44227.000000  44227.000000   \n",
       "unique                4           NaN           NaN           NaN   \n",
       "top     Entire home/apt           NaN           NaN           NaN   \n",
       "freq              24386           NaN           NaN           NaN   \n",
       "mean                NaN      3.127547      1.283277      1.370995   \n",
       "std                 NaN      1.924169      0.569279      0.855693   \n",
       "min                 NaN      1.000000      0.000000      0.000000   \n",
       "25%                 NaN      2.000000      1.000000      1.000000   \n",
       "50%                 NaN      2.000000      1.000000      1.000000   \n",
       "75%                 NaN      4.000000      1.500000      2.000000   \n",
       "max                 NaN     16.000000     11.000000     19.000000   \n",
       "\n",
       "                beds  bed_type amenities  guests_included  \\\n",
       "count   44227.000000     44227     44227     44227.000000   \n",
       "unique           NaN         5     40696              NaN   \n",
       "top              NaN  Real Bed        {}              NaN   \n",
       "freq             NaN     43882       174              NaN   \n",
       "mean        1.704886       NaN       NaN         1.573383   \n",
       "std         1.220817       NaN       NaN         1.263417   \n",
       "min         0.000000       NaN       NaN         1.000000   \n",
       "25%         1.000000       NaN       NaN         1.000000   \n",
       "50%         1.000000       NaN       NaN         1.000000   \n",
       "75%         2.000000       NaN       NaN         2.000000   \n",
       "max        21.000000       NaN       NaN        46.000000   \n",
       "\n",
       "                cancellation_policy  \n",
       "count                         44227  \n",
       "unique                            8  \n",
       "top     strict_14_with_grace_period  \n",
       "freq                          19240  \n",
       "mean                            NaN  \n",
       "std                             NaN  \n",
       "min                             NaN  \n",
       "25%                             NaN  \n",
       "50%                             NaN  \n",
       "75%                             NaN  \n",
       "max                             NaN  "
      ]
     },
     "execution_count": 15,
     "metadata": {},
     "output_type": "execute_result"
    }
   ],
   "source": [
    "X_train.describe(include = 'all')"
   ]
  },
  {
   "cell_type": "code",
   "execution_count": 16,
   "id": "63b47d54",
   "metadata": {},
   "outputs": [],
   "source": [
    "for boo in ('host_is_superhost','host_has_profile_pic', 'host_identity_verified'):\n",
    "    X_train[boo] = X_train[boo].map({'t': 1, 'f': 0})"
   ]
  },
  {
   "cell_type": "code",
   "execution_count": 17,
   "id": "754dc1aa",
   "metadata": {},
   "outputs": [],
   "source": [
    "for i in ('host_total_listings_count', 'accommodates', 'bathrooms', 'bedrooms', 'beds', 'guests_included'):\n",
    "    X_train[i] = X_train[i].astype(\"int\")"
   ]
  },
  {
   "cell_type": "markdown",
   "id": "71de1361",
   "metadata": {},
   "source": [
    "M-estimate encoder is used to encode the categorical variables into numeric values. M-estimate encoding is used over one-hot encoding is because it helps to keep the dimension of the data low while one-hot encoding might increase the column numbers enomoursly. An M-estimate encoding with regularization parameter of zero is equivalent to mean encoding."
   ]
  },
  {
   "cell_type": "code",
   "execution_count": 18,
   "id": "ea7d3e01",
   "metadata": {},
   "outputs": [],
   "source": [
    "encoder = MEstimateEncoder(cols = ['experiences_offered', 'neighbourhood', 'property_type', \n",
    "          'room_type', 'bed_type', 'cancellation_policy'], m = 0)\n",
    "\n",
    "encoder.fit(X_train, y_train)\n",
    "X_train = encoder.transform(X_train)"
   ]
  },
  {
   "cell_type": "markdown",
   "id": "f3f8c644",
   "metadata": {},
   "source": [
    "host_since column is converted to date instead of string data type"
   ]
  },
  {
   "cell_type": "code",
   "execution_count": 19,
   "id": "38342b00",
   "metadata": {},
   "outputs": [],
   "source": [
    "X_train.host_since = pd.to_datetime(X_train.host_since)"
   ]
  },
  {
   "cell_type": "markdown",
   "id": "20be0f14",
   "metadata": {},
   "source": [
    "Airbnb is launched on 11th August 2008, and so that's the earliest day someone could be a host. The host_since variable could be transform into how many days after the launch it is launched so that it works better with neural network."
   ]
  },
  {
   "cell_type": "code",
   "execution_count": 20,
   "id": "5a0081cf",
   "metadata": {},
   "outputs": [],
   "source": [
    "launch = date(2018, 11, 8)"
   ]
  },
  {
   "cell_type": "code",
   "execution_count": 21,
   "id": "a49ed21b",
   "metadata": {},
   "outputs": [],
   "source": [
    "def days_from_start(date, start):\n",
    "    delta = start - date.date()\n",
    "    \n",
    "    return(delta.days)"
   ]
  },
  {
   "cell_type": "code",
   "execution_count": 22,
   "id": "a2aa5f16",
   "metadata": {},
   "outputs": [],
   "source": [
    "X_train[\"host_since_days_after_launch\"] = X_train.host_since.apply(days_from_start, args = (launch, ))\n",
    "X_train = X_train.drop('host_since', axis = 1)"
   ]
  },
  {
   "cell_type": "markdown",
   "id": "3b2134a2",
   "metadata": {},
   "source": [
    "# 3. Text Analysis - Natural Language Processing"
   ]
  },
  {
   "cell_type": "markdown",
   "id": "89752f03",
   "metadata": {},
   "source": [
    "## 3.1 Sentiment Analysis using reviews data"
   ]
  },
  {
   "cell_type": "markdown",
   "id": "0bf9cd61",
   "metadata": {},
   "source": [
    "Looking at the review data, there are some non-english reviews and these should be removed because they are considered as noise for English text based model. This could be done by spacy_langdetect's LanguageDetector which gives the probability that a text is of a given language. First all rows with null entry for comments are removed and then a function that replaced the comments with whether they are english, non-english or Unknown/not proper language are applied to the comments column. The text will be kept unchanged if it is predicted to be in english while being replaced by 'Non-english' or 'Unknown or not proper language' otherwise."
   ]
  },
  {
   "cell_type": "code",
   "execution_count": 24,
   "id": "ba5166d2",
   "metadata": {},
   "outputs": [],
   "source": [
    "review = review[review.comments.notnull()] # remove all rows with empty comments entry\n",
    "review.reset_index(drop=True, inplace=True)"
   ]
  },
  {
   "cell_type": "code",
   "execution_count": 3,
   "id": "680c9680",
   "metadata": {},
   "outputs": [
    {
     "data": {
      "text/plain": [
       "<spacy_langdetect.spacy_langdetect.LanguageDetector at 0x18670d68fd0>"
      ]
     },
     "execution_count": 3,
     "metadata": {},
     "output_type": "execute_result"
    }
   ],
   "source": [
    "nlp = spacy.load('en_core_web_sm')\n",
    "\n",
    "@Language.factory('language_detector')\n",
    "def language_detector(nlp, name):\n",
    "    return LanguageDetector()\n",
    "\n",
    "nlp.add_pipe('language_detector', last=True)"
   ]
  },
  {
   "cell_type": "code",
   "execution_count": 16,
   "id": "f46b8131",
   "metadata": {},
   "outputs": [],
   "source": [
    "def language_det(df, cols, return_language_only = True):\n",
    "    '''\n",
    "    A function that predicts the language of the text and replace it with 'Unknown or not proper language', \n",
    "    'Non-english' or keep the english text if they are unknown language, non-english language or english respectively.\n",
    "    '''\n",
    "    for col in cols:\n",
    "        for i, text in zip(df.index, df[col]):\n",
    "            a = nlp(text)\n",
    "            language = a._.language.get('language')\n",
    "            \n",
    "            if return_language_only == True:\n",
    "                df.loc[i, col] = language\n",
    "            \n",
    "            elif return_language_only == False:\n",
    "                if language == 'UNKNOWN':\n",
    "                    df.loc[i, col] = 'Unknown or not proper language'\n",
    "                elif (language != 'en' and language != 'UNKNOWN'):\n",
    "                    df.loc[i, col] = \"Non-english\"\n",
    "                elif language == 'en': # Do nothing if it is english\n",
    "                    df.loc[i, col] = text\n",
    "                        \n",
    "    return (df)"
   ]
  },
  {
   "cell_type": "code",
   "execution_count": 17,
   "id": "91a314af",
   "metadata": {},
   "outputs": [],
   "source": [
    "lan = review.copy()\n",
    "lan = language_det(review, [\"comments\"], return_language = True) # apply the function to the comments"
   ]
  },
  {
   "cell_type": "code",
   "execution_count": 18,
   "id": "acc697ec",
   "metadata": {},
   "outputs": [
    {
     "data": {
      "text/plain": [
       "en         86.048840\n",
       "fr          4.738174\n",
       "es          2.392657\n",
       "de          1.602572\n",
       "it          1.146234\n",
       "ko          0.816318\n",
       "zh-cn       0.630873\n",
       "pt          0.419587\n",
       "nl          0.325241\n",
       "ro          0.213884\n",
       "UNKNOWN     0.167004\n",
       "ca          0.155316\n",
       "so          0.143693\n",
       "af          0.130317\n",
       "ja          0.114734\n",
       "ru          0.111033\n",
       "da          0.110903\n",
       "cs          0.109344\n",
       "pl          0.095579\n",
       "sv          0.086164\n",
       "no          0.075385\n",
       "tl          0.046036\n",
       "fi          0.043244\n",
       "cy          0.037595\n",
       "hu          0.034998\n",
       "id          0.030583\n",
       "tr          0.022012\n",
       "el          0.018765\n",
       "sk          0.017467\n",
       "vi          0.016558\n",
       "sw          0.016428\n",
       "hr          0.016298\n",
       "et          0.014999\n",
       "zh-tw       0.011818\n",
       "he          0.011558\n",
       "ar          0.009285\n",
       "sl          0.006883\n",
       "th          0.003312\n",
       "sq          0.002013\n",
       "lv          0.002013\n",
       "lt          0.001948\n",
       "bg          0.001234\n",
       "uk          0.000519\n",
       "mk          0.000325\n",
       "fa          0.000130\n",
       "hi          0.000065\n",
       "ur          0.000065\n",
       "Name: comments, dtype: float64"
      ]
     },
     "execution_count": 18,
     "metadata": {},
     "output_type": "execute_result"
    }
   ],
   "source": [
    "lan.comments.value_counts()/lan.shape[0]*100"
   ]
  },
  {
   "cell_type": "markdown",
   "id": "ea7c75ea",
   "metadata": {},
   "source": [
    "About 86% of the comments are english and the rest are non-english. All non-english comments are discarded as they are considered as noise for english-based sentiment analysis."
   ]
  },
  {
   "cell_type": "code",
   "execution_count": 53,
   "id": "b07ee3b3",
   "metadata": {},
   "outputs": [],
   "source": [
    "review_en = review[lan.comments == 'en']"
   ]
  },
  {
   "cell_type": "markdown",
   "id": "1b042068",
   "metadata": {},
   "source": [
    "Next a text cleaning function is created and applied to the comments column that:\n",
    "1. Remove html contents\n",
    "2. Remove white spaces\n",
    "3. Convert emoticons into meaningful text\n",
    "4. Remove punctuations, casing and non-alphanumeric characters\n",
    "5. Remove english-stopwords\n",
    "6. Lemmatize the words"
   ]
  },
  {
   "cell_type": "code",
   "execution_count": 40,
   "id": "d4d7e0fc",
   "metadata": {},
   "outputs": [],
   "source": [
    "english_stopwords = stopwords.words('english')\n",
    "\n",
    "def get_wordnet_pos(word):\n",
    "    \"\"\"Helper function that calls the POS tagger for an input word and return a code that can be used for lemmatization\"\"\"\n",
    "    tag = nltk.pos_tag([word])[0][1][0].upper()  \n",
    "    tag_dict = {\"J\": wordnet.ADJ,\n",
    "                \"N\": wordnet.NOUN,\n",
    "                \"V\": wordnet.VERB,\n",
    "                \"R\": wordnet.ADV}\n",
    "    return tag_dict.get(tag, wordnet.NOUN)\n",
    "\n",
    "def remove_whitespace(text):\n",
    "    \"\"\" Function to remove whitespaces. \"\"\"\n",
    "    return ' '.join(text.split())\n",
    "\n",
    "def convert_emoticons(text):\n",
    "    \"\"\" Function to convert emoticons into a text that reflects their meaning. \"\"\"\n",
    "    EMOTICONS = emot.EMOTICONS()\n",
    "    for i in EMOTICONS:\n",
    "        text = text.replace(i, EMOTICONS[i])\n",
    "    return text\n",
    "\n",
    "def remove_punctuation_and_casing(text):\n",
    "    \"\"\"\n",
    "    Function to remove the punctuation, upper casing and words that include\n",
    "    non-alphanumeric characters.\n",
    "    \"\"\"\n",
    "    chars = '!\\\"#$%&()*+,-./:;<=>?@[\\]^_`{|}~'\n",
    "    text = text.translate(str.maketrans(chars, ' ' * len(chars)))\n",
    "    return ' '.join([word.lower() for word in text.split() if word.isalpha()])\n",
    "\n",
    "\n",
    "def remove_stopwords(text):\n",
    "    \"\"\" Function that removes english stopwords. \"\"\"\n",
    "    return ' '.join([word for word in str(text).split() if word not in english_stopwords])"
   ]
  },
  {
   "cell_type": "code",
   "execution_count": 41,
   "id": "4897cc41",
   "metadata": {},
   "outputs": [],
   "source": [
    "def text_cleaning(text):\n",
    "    \"\"\"\n",
    "    Function that remove html contents, white spaces, punctuations, casing, non-alphanumeric characters, english stopwords, \n",
    "    convert emoticons into meaningful text and lemmatize words.\n",
    "    \"\"\"\n",
    "    lemmatizer = WordNetLemmatizer()\n",
    "    text = BeautifulSoup(text).get_text()\n",
    "    text = remove_whitespace(text)\n",
    "    text = convert_emoticons(text)\n",
    "    text = remove_punctuation_and_casing(text)\n",
    "    text = remove_stopwords(text)\n",
    "    text = ' '.join([lemmatizer.lemmatize(word, get_wordnet_pos(word)) for word in text.split()])\n",
    "        \n",
    "    return text"
   ]
  },
  {
   "cell_type": "code",
   "execution_count": 42,
   "id": "54da656a",
   "metadata": {},
   "outputs": [],
   "source": [
    "def clean_cols(df, cols):\n",
    "    '''\n",
    "    A function that apply text_cleaning to selected columns of the data frame. \n",
    "    '''\n",
    "    \n",
    "    for col in cols:\n",
    "        for i, text in zip(df.index, df[col]):\n",
    "            df.loc[i, col] = text_cleaning(text)\n",
    "    \n",
    "    return (df)"
   ]
  },
  {
   "cell_type": "code",
   "execution_count": 55,
   "id": "f9f7590d",
   "metadata": {
    "scrolled": true
   },
   "outputs": [
    {
     "name": "stderr",
     "output_type": "stream",
     "text": [
      "C:\\Users\\felix\\anaconda3\\lib\\site-packages\\bs4\\__init__.py:435: MarkupResemblesLocatorWarning: The input looks more like a filename than markup. You may want to open this file and pass the filehandle into Beautiful Soup.\n",
      "  warnings.warn(\n"
     ]
    }
   ],
   "source": [
    "review_en = clean_cols(review_en, [\"comments\"])"
   ]
  },
  {
   "cell_type": "code",
   "execution_count": 58,
   "id": "f6284c65",
   "metadata": {},
   "outputs": [],
   "source": [
    "review_cleaned = review_en.dropna()"
   ]
  },
  {
   "cell_type": "markdown",
   "id": "c979a1cb",
   "metadata": {},
   "source": [
    "After the comments are cleaned, pysentiment2 package is used to predict the sentiment of each comments. The average sentiment of each listing_id is calculated and joint with all train and test data using listing_id as the key values."
   ]
  },
  {
   "cell_type": "code",
   "execution_count": 76,
   "id": "f3f8562c",
   "metadata": {},
   "outputs": [],
   "source": [
    "dc = ps.HIV4()\n",
    "\n",
    "def get_sentiment_score(text):\n",
    "    score = round(dc.get_score(dc.tokenize(text))['Polarity'], 2)\n",
    "    return score\n",
    "\n",
    "review_cleaned['sentiment'] = review_cleaned.comments.apply(get_sentiment_score)\n",
    "\n",
    "review_cleaned['average_sentiment'] = review_cleaned.groupby(['listing_id'])['sentiment'].transform(np.mean)"
   ]
  },
  {
   "cell_type": "code",
   "execution_count": 108,
   "id": "3c59fcdd",
   "metadata": {},
   "outputs": [],
   "source": [
    "review_cleaned = review_cleaned.drop(['reviewer_id', 'comments', 'review_id', 'sentiment'], axis = 1)\n",
    "review_cleaned = review_cleaned.drop_duplicates(subset = 'listing_id') \n",
    "# remove all duplicates to get unique listing_id matches with their average sentiment scores\n",
    "\n",
    "review_cleaned.to_csv(\"C:/Users/felix/OneDrive/Desktop/ADAMS kaggle/sentiment_cleaned.csv\", index = False)"
   ]
  },
  {
   "cell_type": "code",
   "execution_count": 122,
   "id": "f4a03f40",
   "metadata": {},
   "outputs": [],
   "source": [
    "for df in [X_train, X_test, test]:\n",
    "    df.loc[df[\"average_sentiment\"].isnull() == True, \"average_sentiment\"] = np.mean(review_cleaned[\"average_sentiment\"])"
   ]
  },
  {
   "cell_type": "code",
   "execution_count": 141,
   "id": "a8e263bf",
   "metadata": {},
   "outputs": [],
   "source": [
    "X_train = pd.concat([X_train, X_train_listing_id], axis = 1)\n",
    "X_test = pd.concat([X_test, X_test_listing_id], axis = 1)\n",
    "test = pd.concat([test, test_listing_id], axis = 1)"
   ]
  },
  {
   "cell_type": "code",
   "execution_count": 143,
   "id": "9efd8989",
   "metadata": {},
   "outputs": [],
   "source": [
    "for df in [X_train, X_test, test]:\n",
    "    df = pd.merge(df, review_cleaned, how = \"left\", on = 'listing_id')\n",
    "    df = df.drop('listing_id', axis = 1)"
   ]
  },
  {
   "cell_type": "markdown",
   "id": "e5619470",
   "metadata": {},
   "source": [
    "## 3.2 Cleaning of text features\n",
    "\n",
    "Being done with sentiment analysis on review data, now the txt features in the main train data set could be worked on. Firstly, the functions created earlier is used to predict the languages of the text entries and text cleaning is performed."
   ]
  },
  {
   "cell_type": "code",
   "execution_count": 31,
   "id": "66e6dbcb",
   "metadata": {},
   "outputs": [],
   "source": [
    "X_train = language_det(X_train, [\"name\", \"summary\", \"description\", \"amenities\"])"
   ]
  },
  {
   "cell_type": "code",
   "execution_count": 61,
   "id": "e55316b1",
   "metadata": {},
   "outputs": [],
   "source": [
    "text_cols = [\"name\", \"summary\", \"description\", \"amenities\"]\n",
    "X_train = clean_cols(X_train, text_cols)"
   ]
  },
  {
   "cell_type": "code",
   "execution_count": 10,
   "id": "3ec2eb18",
   "metadata": {},
   "outputs": [],
   "source": [
    "# Fill in the empty entry after text cleaning with an empty space\n",
    "\n",
    "for text_col in ['name', 'summary', 'description', 'amenities']:\n",
    "            X_train[text_col].fillna(' ', inplace = True, downcast = 'infer')"
   ]
  },
  {
   "cell_type": "markdown",
   "id": "3f8947e7",
   "metadata": {},
   "source": [
    "## 3.3 Data preparation for test data"
   ]
  },
  {
   "cell_type": "markdown",
   "id": "ed3fa278",
   "metadata": {},
   "source": [
    "Create a function that apply all above steps of variable selections, replacing missing values and data preparations based on the information from train dataset and use it on on test and X_test."
   ]
  },
  {
   "cell_type": "code",
   "execution_count": 64,
   "id": "3c209e90",
   "metadata": {},
   "outputs": [],
   "source": [
    "def data_preparation(df):\n",
    "    df = df.drop(missing_drop, axis = 1)\n",
    "    \n",
    "    for text_col in ['name', 'summary', 'description', 'neighbourhood', 'neighbourhood_cleansed', 'bed_type', 'amenities']:\n",
    "        df[text_col].fillna('Missing', inplace = True, downcast = 'infer')\n",
    "    \n",
    "    df = df.drop(['picture_url', 'host_id', 'neighbourhood_cleansed', 'zipcode', 'latitude',\n",
    "                    'longitude', 'listing_id'], axis = 1)\n",
    "    \n",
    "    for col in ['host_since', 'host_total_listings_count','host_is_superhost','host_has_profile_pic', \n",
    "            'host_identity_verified', 'bathrooms', 'bedrooms', 'beds']:\n",
    "        df.loc[df[col].isnull() == True, col] = mode(X_train[col])\n",
    "        \n",
    "    for i in ('host_total_listings_count', 'accommodates', 'bathrooms', 'bedrooms', 'beds', 'guests_included'):\n",
    "        df[i] = df[i].astype(\"int\")\n",
    "        \n",
    "    for boo in ('host_is_superhost','host_has_profile_pic', 'host_identity_verified'):\n",
    "        df[boo] = df[boo].map({'t': 1, 'f': 0})\n",
    "    \n",
    "    df = encoder.transform(df)\n",
    "    \n",
    "    df.host_since = pd.to_datetime(df.host_since)\n",
    "    \n",
    "    df[\"host_since_days_after_launch\"] = df.host_since.apply(days_from_start, args = (launch, ))\n",
    "    \n",
    "    df = df.drop('host_since', axis = 1)\n",
    "    \n",
    "    df = language_det(df, [\"name\", \"summary\", \"description\", \"amenities\"])\n",
    "    \n",
    "    df = clean_cols(df, text_cols)\n",
    "    \n",
    "    for df in [X_test, test]: \n",
    "        for text_col in ['name', 'summary', 'description', 'amenities']:\n",
    "            df[text_col].fillna(' ', inplace = True, downcast = 'infer')\n",
    "    \n",
    "    return(df)"
   ]
  },
  {
   "cell_type": "code",
   "execution_count": 124,
   "id": "e3e3275a",
   "metadata": {
    "scrolled": true
   },
   "outputs": [],
   "source": [
    "X_test = data_preparation(X_test)\n",
    "test = data_preparation(test)"
   ]
  },
  {
   "cell_type": "markdown",
   "id": "762ee17e",
   "metadata": {},
   "source": [
    "For texts data, they will be used separately from numeric features in prediciton, and thus must be separated from training data as well:"
   ]
  },
  {
   "cell_type": "code",
   "execution_count": 4,
   "id": "c7966ea9",
   "metadata": {},
   "outputs": [],
   "source": [
    "X_train_text = X_train[['name', 'summary', 'description', 'amenities']]\n",
    "X_test_text = X_test[['name', 'summary', 'description', 'amenities']]\n",
    "test_text = test[['name', 'summary', 'description', 'amenities']]\n",
    "\n",
    "for df in [X_train, X_test, test]:\n",
    "    df = df.drop(['name', 'summary', 'description', 'amenities'], axis = 1, inplace = True)"
   ]
  },
  {
   "cell_type": "markdown",
   "id": "fd85e4c6",
   "metadata": {},
   "source": [
    "## 3.4 Padding"
   ]
  },
  {
   "cell_type": "markdown",
   "id": "363ad960",
   "metadata": {},
   "source": [
    "For padding length of each text features, the cumulative distribution function (CDF) of each text feature is plotted and the first ending value of histogram bins that exceeds 90% is taken as the upper bound of pad length. After plotting the CDF of each text feature and the pas length is determined, each word is tokenized and each entry is padded to the decided length."
   ]
  },
  {
   "cell_type": "code",
   "execution_count": 5,
   "id": "2be97b3f",
   "metadata": {
    "scrolled": true
   },
   "outputs": [
    {
     "name": "stdout",
     "output_type": "stream",
     "text": [
      "    name       CDF\n",
      "0   21.6  0.218034\n",
      "1   42.2  0.884505\n",
      "2   62.8  0.998892\n",
      "3   83.4  0.999706\n",
      "4  104.0  0.999932\n",
      "5  124.6  0.999955\n",
      "6  145.2  0.999955\n",
      "7  165.8  0.999955\n",
      "8  186.4  0.999977\n",
      "9  207.0  1.000000 \n",
      "\n",
      "   summary       CDF\n",
      "0     83.8  0.120741\n",
      "1    164.6  0.283153\n",
      "2    245.4  0.520248\n",
      "3    326.2  0.781627\n",
      "4    407.0  0.986750\n",
      "5    487.8  0.991295\n",
      "6    568.6  0.992335\n",
      "7    649.4  0.994641\n",
      "8    730.2  0.998349\n",
      "9    811.0  1.000000 \n",
      "\n",
      "   description       CDF\n",
      "0         92.7  0.063355\n",
      "1        184.4  0.125489\n",
      "2        276.1  0.186018\n",
      "3        367.8  0.266647\n",
      "4        459.5  0.315237\n",
      "5        551.2  0.365139\n",
      "6        642.9  0.541773\n",
      "7        734.6  0.929613\n",
      "8        826.3  0.997829\n",
      "9        918.0  1.000000 \n",
      "\n",
      "   amenities       CDF\n",
      "0      139.7  0.215479\n",
      "1      270.4  0.655550\n",
      "2      401.1  0.904922\n",
      "3      531.8  0.983946\n",
      "4      662.5  0.996179\n",
      "5      793.2  0.998440\n",
      "6      923.9  0.999299\n",
      "7     1054.6  0.999774\n",
      "8     1185.3  0.999932\n",
      "9     1316.0  1.000000 \n",
      "\n"
     ]
    },
    {
     "data": {
      "text/plain": [
       "array([[<AxesSubplot:title={'center':'name'}>,\n",
       "        <AxesSubplot:title={'center':'summary'}>],\n",
       "       [<AxesSubplot:title={'center':'description'}>,\n",
       "        <AxesSubplot:title={'center':'amenities'}>]], dtype=object)"
      ]
     },
     "execution_count": 5,
     "metadata": {},
     "output_type": "execute_result"
    },
    {
     "data": {
      "image/png": "[encoded data removed]",
      "text/plain": [
       "<Figure size 432x288 with 4 Axes>"
      ]
     },
     "metadata": {
      "needs_background": "light"
     },
     "output_type": "display_data"
    }
   ],
   "source": [
    "length = X_train_text.copy()\n",
    "\n",
    "for col in length.columns:\n",
    "    length[col] = length[col].apply(len)\n",
    "\n",
    "for col in length.columns:\n",
    "    d, v = np.histogram(length[col])\n",
    "    c = np.cumsum(d)/length.shape[0]\n",
    "    print (pd.DataFrame({col : v[1:], 'CDF' : c}), \"\\n\") \n",
    "\n",
    "    # Exclude the starting value of bins so that the length of density and values match, \n",
    "    # the resulting data frame is in the format of: (ending value, CDF)\n",
    "\n",
    "length.hist(density = True, cumulative = True, label='CDF',\n",
    "             histtype = 'step', alpha=0.8, color = 'k')"
   ]
  },
  {
   "cell_type": "code",
   "execution_count": 6,
   "id": "e723b009",
   "metadata": {},
   "outputs": [],
   "source": [
    "name_pad_len = 63\n",
    "summary_pad_len = 407\n",
    "description_pad_len = 735\n",
    "amenities_pad_len = 402"
   ]
  },
  {
   "cell_type": "code",
   "execution_count": 7,
   "id": "3a599714",
   "metadata": {},
   "outputs": [],
   "source": [
    "# name\n",
    "name_tokenizer = Tokenizer(oov_token=1, filters='!\"#$%&()*+,-.:;<=>?@[\\\\]^`{|}~\\t\\n', lower=False)\n",
    "name_tokenizer.fit_on_texts(X_train_text.name)\n",
    "X_train_name_tokens = name_tokenizer.texts_to_sequences(X_train_text.name)\n",
    "\n",
    "X_test_name_tokens = name_tokenizer.texts_to_sequences(X_test_text.name)\n",
    "test_name_tokens = name_tokenizer.texts_to_sequences(test_text.name)\n",
    "\n",
    "# summary\n",
    "summary_tokenizer = Tokenizer(oov_token=1, filters='!\"#$%&()*+,-.:;<=>?@[\\\\]^`{|}~\\t\\n', lower=False)\n",
    "summary_tokenizer.fit_on_texts(X_train_text.summary)\n",
    "X_train_summary_tokens = summary_tokenizer.texts_to_sequences(X_train_text.summary)\n",
    "\n",
    "X_test_summary_tokens = summary_tokenizer.texts_to_sequences(X_test_text.summary)\n",
    "test_summary_tokens = summary_tokenizer.texts_to_sequences(test_text.summary)\n",
    "\n",
    "# description\n",
    "description_tokenizer = Tokenizer(oov_token=1, filters='!\"#$%&()*+,-.:;<=>?@[\\\\]^`{|}~\\t\\n', lower=False)\n",
    "description_tokenizer.fit_on_texts(X_train_text.description)\n",
    "X_train_description_tokens = description_tokenizer.texts_to_sequences(X_train_text.description)\n",
    "\n",
    "X_test_description_tokens = description_tokenizer.texts_to_sequences(X_test_text.description)\n",
    "test_description_tokens = description_tokenizer.texts_to_sequences(test_text.description)\n",
    "\n",
    "# amenities\n",
    "amenities_tokenizer = Tokenizer(oov_token=1, filters='!\"#$%&()*+,-.:;<=>?@[\\\\]^`{|}~\\t\\n', lower=False)\n",
    "amenities_tokenizer.fit_on_texts(X_train_text.amenities)\n",
    "X_train_amenities_tokens = amenities_tokenizer.texts_to_sequences(X_train_text.amenities)\n",
    "\n",
    "X_test_amenities_tokens = amenities_tokenizer.texts_to_sequences(X_test_text.amenities)\n",
    "test_amenities_tokens = amenities_tokenizer.texts_to_sequences(test_text.amenities)"
   ]
  },
  {
   "cell_type": "code",
   "execution_count": 8,
   "id": "6c46e37a",
   "metadata": {},
   "outputs": [],
   "source": [
    "padded_X_train_name = pad_sequences(X_train_name_tokens, name_pad_len)\n",
    "padded_X_test_name = pad_sequences(X_test_name_tokens, name_pad_len)\n",
    "padded_test_name = pad_sequences(test_name_tokens, name_pad_len)\n",
    "\n",
    "padded_X_train_summary = pad_sequences(X_train_summary_tokens, summary_pad_len)\n",
    "padded_X_test_summary = pad_sequences(X_test_summary_tokens, summary_pad_len)\n",
    "padded_test_summary = pad_sequences(test_summary_tokens, summary_pad_len)\n",
    "\n",
    "padded_X_train_description = pad_sequences(X_train_description_tokens, description_pad_len)\n",
    "padded_X_test_description = pad_sequences(X_test_description_tokens, description_pad_len)\n",
    "padded_test_description = pad_sequences(test_description_tokens, description_pad_len)\n",
    "\n",
    "padded_X_train_amenities = pad_sequences(X_train_amenities_tokens, amenities_pad_len)\n",
    "padded_X_test_amenities = pad_sequences(X_test_amenities_tokens, amenities_pad_len)\n",
    "padded_test_amenities = pad_sequences(test_amenities_tokens, amenities_pad_len)"
   ]
  },
  {
   "cell_type": "code",
   "execution_count": 9,
   "id": "ee15902d",
   "metadata": {},
   "outputs": [],
   "source": [
    "name_vocab_size = len(name_tokenizer.word_index) + 1\n",
    "summary_vocab_size = len(summary_tokenizer.word_index) + 1\n",
    "description_vocab_size = len(description_tokenizer.word_index) + 1\n",
    "amenities_vocab_size = len(amenities_tokenizer.word_index) + 1"
   ]
  },
  {
   "cell_type": "markdown",
   "id": "934bf377",
   "metadata": {},
   "source": [
    "## 3.5 Embedding"
   ]
  },
  {
   "cell_type": "markdown",
   "id": "dc006aa5",
   "metadata": {},
   "source": [
    "After padding, each tokens are transformed into word embeddings (word vectors). Word Embedding is preferable over Bag-of-words because the distance between word vectors contain the relationships between words. For this assignment, a pretrained GloVe vectors is used."
   ]
  },
  {
   "cell_type": "code",
   "execution_count": 10,
   "id": "3329d896",
   "metadata": {},
   "outputs": [],
   "source": [
    "glove = 'glove.6B.50d.txt'\n",
    "\n",
    "glove_index = {}\n",
    "start = time.time()\n",
    "i = 0\n",
    "with open(glove, 'r', encoding=\"utf8\") as f:\n",
    "    for line in f:\n",
    "        values = line.split()\n",
    "        word = values[0]\n",
    "        coefs = np.asarray(values[1:], dtype='float32')\n",
    "        glove_index[word] = coefs\n",
    "        i += 1\n",
    "        #if i % 50000 == 0:\n",
    "            #print('Read {} lines of embeddings in {} sec.'.format(i, time.time()-start))"
   ]
  },
  {
   "cell_type": "code",
   "execution_count": 11,
   "id": "ac11399f",
   "metadata": {},
   "outputs": [],
   "source": [
    "def get_embedding_matrix(tokenizer, pretrain, vocab_size, verbose=0):\n",
    "    '''\n",
    "        Helper function to construct an embedding matrix for \n",
    "        the focal corpus based on some pre-trained embeddings.\n",
    "    '''\n",
    "    \n",
    "    dim = 0\n",
    "    if isinstance(pretrain, KeyedVectors) or isinstance(pretrain, Word2VecKeyedVectors):\n",
    "        dim = pretrain.vector_size        \n",
    "    elif isinstance(pretrain, dict):\n",
    "        dim = next(iter(pretrain.values())).shape[0]\n",
    "    else:\n",
    "        raise Exception('{} is not supported'.format(type(pretrain)))\n",
    "    \n",
    "    \n",
    "    emb_mat = np.zeros((vocab_size, dim))\n",
    "\n",
    "    oov_words = []\n",
    "    v = len(tokenizer.word_index)\n",
    "    start = time.time()\n",
    "    print('Start embedding process for {} words.'.format(v), flush=True)\n",
    "    \n",
    "    for word, i in tokenizer.word_index.items():  \n",
    "        try:\n",
    "            emb_mat[i] = pretrain[word]\n",
    "        except:\n",
    "            oov_words.append(word)\n",
    "        if i % 5000 == 0 and verbose>0:    \n",
    "            print('{}/{} words in {} sec'.format(i, v, (time.time()-start)), flush=True)\n",
    "            \n",
    "            \n",
    "    print('Created embedding matrix of shape {} in {} min '.format(emb_mat.shape, (time.time()-start)/60))\n",
    "    \n",
    "    print('Encountered {} out-of-vocabulary words.'.format(len(oov_words)))\n",
    "    return (emb_mat, oov_words)"
   ]
  },
  {
   "cell_type": "code",
   "execution_count": 12,
   "id": "66f19ae4",
   "metadata": {
    "scrolled": false
   },
   "outputs": [
    {
     "name": "stdout",
     "output_type": "stream",
     "text": [
      "Start embedding process for 4618 words.\n",
      "Created embedding matrix of shape (4619, 50) in 0.0005163669586181641 min \n",
      "Encountered 956 out-of-vocabulary words.\n",
      "Start embedding process for 14736 words.\n",
      "Created embedding matrix of shape (14737, 50) in 0.0013324777285257975 min \n",
      "Encountered 3392 out-of-vocabulary words.\n",
      "Start embedding process for 25626 words.\n",
      "Created embedding matrix of shape (25627, 50) in 0.0015990813573201498 min \n",
      "Encountered 8312 out-of-vocabulary words.\n",
      "Start embedding process for 273 words.\n",
      "Created embedding matrix of shape (274, 50) in 0.00011659065882364908 min \n",
      "Encountered 1 out-of-vocabulary words.\n"
     ]
    }
   ],
   "source": [
    "name_glove_weights, _ = get_embedding_matrix(name_tokenizer, glove_index, name_vocab_size)\n",
    "summary_glove_weights, _ = get_embedding_matrix(summary_tokenizer, glove_index, summary_vocab_size)\n",
    "description_glove_weights, _ = get_embedding_matrix(description_tokenizer, glove_index, description_vocab_size)\n",
    "amenities_glove_weights, _ = get_embedding_matrix(amenities_tokenizer, glove_index, amenities_vocab_size)"
   ]
  },
  {
   "cell_type": "code",
   "execution_count": 13,
   "id": "f72d144a",
   "metadata": {},
   "outputs": [],
   "source": [
    "nontext_colnames = X_train.columns # save the column names before it is lose in standardiser"
   ]
  },
  {
   "cell_type": "markdown",
   "id": "83894187",
   "metadata": {},
   "source": [
    "Before proceeding further, all numeric features are standardised so that the network's learning considers all input fetures equally."
   ]
  },
  {
   "cell_type": "code",
   "execution_count": 14,
   "id": "80713834",
   "metadata": {
    "scrolled": true
   },
   "outputs": [],
   "source": [
    "scaler = StandardScaler()\n",
    "X_train = scaler.fit_transform(X_train)\n",
    "X_test = scaler.transform(X_test)\n",
    "test = scaler.transform(test)"
   ]
  },
  {
   "cell_type": "markdown",
   "id": "00e11e02",
   "metadata": {},
   "source": [
    "# 4. Model Evaluation\n",
    "\n",
    "## 4.1.1 Linear Regression (LR)\n",
    "\n",
    "When it comes to prediction using numeric features, the first that usually comes to mind is linear regression. Here, linear regression will be used as the benchmark model and the involvement of text features and neural network could be observed by seeing the changes in Mean Absolute Error (MAE) and Mean Squared Error (MSE) when comparing linear regression to some neural networks model."
   ]
  },
  {
   "cell_type": "code",
   "execution_count": 110,
   "id": "e43b52a0",
   "metadata": {},
   "outputs": [],
   "source": [
    "linear_X_train = X_train.copy()\n",
    "linear_X_train = pd.DataFrame(linear_X_train)\n",
    "linear_X_train.columns = nontext_colnames\n",
    "linear_X_train = sm.add_constant(linear_X_train)\n",
    "\n",
    "linear_X_test = X_test.copy()\n",
    "linear_X_test = pd.DataFrame(linear_X_test)\n",
    "linear_X_test.columns = nontext_colnames\n",
    "linear_X_test = sm.add_constant(linear_X_test)"
   ]
  },
  {
   "cell_type": "code",
   "execution_count": 112,
   "id": "9ae437dd",
   "metadata": {
    "scrolled": true
   },
   "outputs": [
    {
     "name": "stdout",
     "output_type": "stream",
     "text": [
      "                            OLS Regression Results                            \n",
      "==============================================================================\n",
      "Dep. Variable:                  price   R-squared:                       0.557\n",
      "Model:                            OLS   Adj. R-squared:                  0.557\n",
      "Method:                 Least Squares   F-statistic:                     3274.\n",
      "Date:                Tue, 06 Sep 2022   Prob (F-statistic):               0.00\n",
      "Time:                        12:31:08   Log-Likelihood:            -2.4052e+05\n",
      "No. Observations:               44227   AIC:                         4.811e+05\n",
      "Df Residuals:                   44209   BIC:                         4.812e+05\n",
      "Df Model:                          17                                         \n",
      "Covariance Type:            nonrobust                                         \n",
      "================================================================================================\n",
      "                                   coef    std err          t      P>|t|      [0.025      0.975]\n",
      "------------------------------------------------------------------------------------------------\n",
      "const                          104.2550      0.265    393.806      0.000     103.736     104.774\n",
      "experiences_offered              0.6582      0.267      2.468      0.014       0.135       1.181\n",
      "host_is_superhost                0.6686      0.272      2.458      0.014       0.135       1.202\n",
      "host_total_listings_count       13.8975      0.272     51.086      0.000      13.364      14.431\n",
      "host_has_profile_pic            -0.4071      0.265     -1.536      0.125      -0.927       0.113\n",
      "host_identity_verified          -1.4606      0.290     -5.041      0.000      -2.029      -0.893\n",
      "neighbourhood                   22.8790      0.282     81.027      0.000      22.326      23.432\n",
      "property_type                    2.7778      0.279      9.953      0.000       2.231       3.325\n",
      "room_type                       19.9641      0.336     59.489      0.000      19.306      20.622\n",
      "accommodates                    17.0735      0.550     31.032      0.000      15.995      18.152\n",
      "bathrooms                        9.5401      0.309     30.883      0.000       8.935      10.146\n",
      "bedrooms                        16.8841      0.433     38.970      0.000      16.035      17.733\n",
      "beds                            -1.3339      0.454     -2.937      0.003      -2.224      -0.444\n",
      "bed_type                         0.3867      0.266      1.455      0.146      -0.134       0.907\n",
      "guests_included                  1.0610      0.310      3.426      0.001       0.454       1.668\n",
      "cancellation_policy              2.1791      0.283      7.690      0.000       1.624       2.735\n",
      "host_since_days_after_launch    -1.9939      0.290     -6.872      0.000      -2.563      -1.425\n",
      "average_sentiment                0.7271      0.270      2.696      0.007       0.198       1.256\n",
      "==============================================================================\n",
      "Omnibus:                    22304.317   Durbin-Watson:                   2.002\n",
      "Prob(Omnibus):                  0.000   Jarque-Bera (JB):           265288.256\n",
      "Skew:                           2.149   Prob(JB):                         0.00\n",
      "Kurtosis:                      14.202   Cond. No.                         4.61\n",
      "==============================================================================\n",
      "\n",
      "Notes:\n",
      "[1] Standard Errors assume that the covariance matrix of the errors is correctly specified.\n"
     ]
    }
   ],
   "source": [
    "model = sm.OLS(y_train, linear_X_train)\n",
    "ols = model.fit()\n",
    "print(ols.summary())"
   ]
  },
  {
   "cell_type": "code",
   "execution_count": 113,
   "id": "d1d4d76a",
   "metadata": {},
   "outputs": [],
   "source": [
    "linear_val_prediction = ols.predict(linear_X_test)"
   ]
  },
  {
   "cell_type": "markdown",
   "id": "b47f5e6e",
   "metadata": {},
   "source": [
    "A function that calculates Mean Absolute Error (MAE) and Mean Squared Error (MSE) is created to determine MAE and MSE of different models for comparison and selection."
   ]
  },
  {
   "cell_type": "code",
   "execution_count": 20,
   "id": "2cdb5892",
   "metadata": {},
   "outputs": [],
   "source": [
    "def mae_mse(prediction, true):\n",
    "    mae = np.mean(np.absolute(prediction - true))\n",
    "    mse = np.mean(np.square(prediction - true))\n",
    "    \n",
    "    return (mae, mse)"
   ]
  },
  {
   "cell_type": "code",
   "execution_count": 169,
   "id": "60dede7b",
   "metadata": {},
   "outputs": [],
   "source": [
    "val_linear_mae, val_linear_mse = mae_mse(linear_val_prediction, y_test)"
   ]
  },
  {
   "cell_type": "markdown",
   "id": "f9f9ec90",
   "metadata": {},
   "source": [
    "## 4.1.2 LR with variable selection\n",
    "\n",
    "Upon inspection of the linear regression summary, realized that 'host_has_profile_pic' and 'bed_type' have p-value that are more than 10%, thus they are statistically insignificance based on 10% significance level. Another linear regression model is being created excluding 'host_has_profile_pic' and 'bed_type':"
   ]
  },
  {
   "cell_type": "code",
   "execution_count": 117,
   "id": "8c9fbd6b",
   "metadata": {},
   "outputs": [],
   "source": [
    "# variable selection based on 5% significance level\n",
    "selected_linear_X_train = linear_X_train.drop(['host_has_profile_pic', 'bed_type'], axis = 1)\n",
    "selected_linear_X_test = linear_X_test.drop(['host_has_profile_pic', 'bed_type'], axis = 1)"
   ]
  },
  {
   "cell_type": "code",
   "execution_count": 170,
   "id": "3419078b",
   "metadata": {
    "scrolled": false
   },
   "outputs": [
    {
     "name": "stdout",
     "output_type": "stream",
     "text": [
      "                            OLS Regression Results                            \n",
      "==============================================================================\n",
      "Dep. Variable:                  price   R-squared:                       0.557\n",
      "Model:                            OLS   Adj. R-squared:                  0.557\n",
      "Method:                 Least Squares   F-statistic:                     3710.\n",
      "Date:                Tue, 06 Sep 2022   Prob (F-statistic):               0.00\n",
      "Time:                        13:00:54   Log-Likelihood:            -2.4052e+05\n",
      "No. Observations:               44227   AIC:                         4.811e+05\n",
      "Df Residuals:                   44211   BIC:                         4.812e+05\n",
      "Df Model:                          15                                         \n",
      "Covariance Type:            nonrobust                                         \n",
      "================================================================================================\n",
      "                                   coef    std err          t      P>|t|      [0.025      0.975]\n",
      "------------------------------------------------------------------------------------------------\n",
      "const                          104.2550      0.265    393.795      0.000     103.736     104.774\n",
      "experiences_offered              0.6657      0.267      2.496      0.013       0.143       1.188\n",
      "host_is_superhost                0.6576      0.272      2.418      0.016       0.125       1.191\n",
      "host_total_listings_count       13.8971      0.272     51.085      0.000      13.364      14.430\n",
      "host_identity_verified          -1.4789      0.290     -5.106      0.000      -2.047      -0.911\n",
      "neighbourhood                   22.8794      0.282     81.027      0.000      22.326      23.433\n",
      "property_type                    2.7812      0.279      9.966      0.000       2.234       3.328\n",
      "room_type                       19.9718      0.336     59.518      0.000      19.314      20.630\n",
      "accommodates                    17.0753      0.550     31.035      0.000      15.997      18.154\n",
      "bathrooms                        9.5390      0.309     30.879      0.000       8.934      10.144\n",
      "bedrooms                        16.8984      0.433     39.008      0.000      16.049      17.748\n",
      "beds                            -1.3334      0.454     -2.936      0.003      -2.224      -0.443\n",
      "guests_included                  1.0562      0.310      3.410      0.001       0.449       1.663\n",
      "cancellation_policy              2.1733      0.283      7.671      0.000       1.618       2.729\n",
      "host_since_days_after_launch    -2.0194      0.290     -6.967      0.000      -2.587      -1.451\n",
      "average_sentiment                0.7231      0.270      2.681      0.007       0.194       1.252\n",
      "==============================================================================\n",
      "Omnibus:                    22298.182   Durbin-Watson:                   2.002\n",
      "Prob(Omnibus):                  0.000   Jarque-Bera (JB):           265047.715\n",
      "Skew:                           2.148   Prob(JB):                         0.00\n",
      "Kurtosis:                      14.197   Cond. No.                         4.61\n",
      "==============================================================================\n",
      "\n",
      "Notes:\n",
      "[1] Standard Errors assume that the covariance matrix of the errors is correctly specified.\n"
     ]
    }
   ],
   "source": [
    "selected_model = sm.OLS(y_train, selected_linear_X_train)\n",
    "selected_ols = selected_model.fit()\n",
    "print(selected_ols.summary())\n",
    "selected_linear_val_prediction = selected_ols.predict(selected_linear_X_test)\n",
    "val_selected_linear_mae, val_selected_linear_mse = mae_mse(selected_linear_val_prediction, y_test)"
   ]
  },
  {
   "cell_type": "code",
   "execution_count": 30,
   "id": "d1e63f74",
   "metadata": {},
   "outputs": [
    {
     "name": "stdout",
     "output_type": "stream",
     "text": [
      "LR: \n",
      " MAE: 35.45916029837819 \n",
      " MSE: 3175.9641491388847 \n",
      " \n",
      " LR with variable selection: \n",
      " MAE: 35.45368539839011 \n",
      " MSE:  3175.716181146826\n"
     ]
    }
   ],
   "source": [
    "print('LR: \\n MAE:', val_linear_mae, '\\n MSE:', val_linear_mse, \n",
    "      '\\n \\n LR with variable selection: \\n MAE:', val_selected_linear_mae, '\\n MSE: ', val_selected_linear_mse)"
   ]
  },
  {
   "cell_type": "markdown",
   "id": "babf98c7",
   "metadata": {},
   "source": [
    "Linear model using only statistical significant variable yields similar result compare to the one using 'host_has_profile_pic' and 'bed_type' as well, there are improvement but only very slightly."
   ]
  },
  {
   "cell_type": "markdown",
   "id": "22f23643",
   "metadata": {},
   "source": [
    "# 4.2 Neural Network"
   ]
  },
  {
   "cell_type": "markdown",
   "id": "30f32e7b",
   "metadata": {},
   "source": [
    "After establishing the benchmark LR model, now several neural network models could be developed and compare to our benchmark. For RNNs' text features, it is decided that 'name', 'summary', 'description' and 'amenities' are to be included for full model while for some, only the 'summary' text feature is included for faster learning. As for activation function 'relu' is used because the target price is never negative.\n",
    "\n",
    "Some of the models that have been done are:\n",
    "1. Feedforward Neural Network (FNN)\n",
    "2. Gated Reccurent Unit (GRU) with only summary\n",
    "3. LSTM with full text features\n",
    "4. Long Short-Term Memory (LSTM) with only summary\n",
    "5. LSTM with full text features\n",
    "6. Bidirectional LSTM (BiLSTM)\n",
    "\n",
    "Note that not all Recurrent Neural Netowrks (RNNs) code are included in this jupyter notebook as they have similar structure and will only make the notebook more tedious to read. However, their MAE and MSE will be included during the model comparisons. Another notebook will be uploaded to moodle containing codes for those excluded session and simply copy and paste those part into this notebook if you wish to execute those parts."
   ]
  },
  {
   "cell_type": "markdown",
   "id": "d3463eb2",
   "metadata": {},
   "source": [
    "# 4.2.1 FNN"
   ]
  },
  {
   "cell_type": "code",
   "execution_count": 119,
   "id": "d2628ec2",
   "metadata": {},
   "outputs": [
    {
     "name": "stdout",
     "output_type": "stream",
     "text": [
      "Model: \"model\"\n",
      "_________________________________________________________________\n",
      " Layer (type)                Output Shape              Param #   \n",
      "=================================================================\n",
      " input_1 (InputLayer)        [(None, 17)]              0         \n",
      "                                                                 \n",
      " dense (Dense)               (None, 256)               4608      \n",
      "                                                                 \n",
      " dense_1 (Dense)             (None, 128)               32896     \n",
      "                                                                 \n",
      " dense_2 (Dense)             (None, 64)                8256      \n",
      "                                                                 \n",
      " dense_3 (Dense)             (None, 32)                2080      \n",
      "                                                                 \n",
      " dense_4 (Dense)             (None, 16)                528       \n",
      "                                                                 \n",
      " dense_5 (Dense)             (None, 1)                 17        \n",
      "                                                                 \n",
      "=================================================================\n",
      "Total params: 48,385\n",
      "Trainable params: 48,385\n",
      "Non-trainable params: 0\n",
      "_________________________________________________________________\n"
     ]
    }
   ],
   "source": [
    "inputs = layers.Input(shape=(X_train.shape[1],))\n",
    "layer1 = layers.Dense(256,  activation = 'relu',\n",
    "                      kernel_initializer=keras.initializers.he_normal(seed = 235), bias_initializer='zeros')(inputs)\n",
    "\n",
    "layer2 = layers.Dense(128, activation = 'relu', \n",
    "                      kernel_initializer=keras.initializers.he_normal(seed = 235), bias_initializer='zeros')(layer1)\n",
    "\n",
    "layer3 = layers.Dense(64, activation = 'relu', \n",
    "                      kernel_initializer=keras.initializers.he_normal(seed = 235), bias_initializer='zeros')(layer2)\n",
    "\n",
    "layer4 = layers.Dense(32, activation = 'relu', \n",
    "                      kernel_initializer=keras.initializers.he_normal(seed = 235), bias_initializer='zeros')(layer3)\n",
    "\n",
    "layer5 = layers.Dense(16, activation = 'relu', \n",
    "                      kernel_initializer=keras.initializers.he_normal(seed = 235), bias_initializer='zeros')(layer4)\n",
    "\n",
    "\n",
    "predictions = layers.Dense(1, activation = 'relu')(layer5)\n",
    "\n",
    "fnn = keras.Model(inputs = inputs, outputs = predictions)\n",
    "fnn.summary()"
   ]
  },
  {
   "cell_type": "code",
   "execution_count": 120,
   "id": "b3aa29dd",
   "metadata": {
    "collapsed": true
   },
   "outputs": [
    {
     "name": "stdout",
     "output_type": "stream",
     "text": [
      "Epoch 1/25\n",
      "260/260 [==============================] - 2s 4ms/step - loss: 3455.3787 - mse: 3455.3787 - mae: 36.1573 - val_loss: 3160.9531 - val_mse: 3160.9531 - val_mae: 36.6797\n",
      "Epoch 2/25\n",
      "260/260 [==============================] - 1s 3ms/step - loss: 2987.0774 - mse: 2987.0774 - mae: 33.7168 - val_loss: 2856.0120 - val_mse: 2856.0120 - val_mae: 31.6170\n",
      "Epoch 3/25\n",
      "260/260 [==============================] - 1s 3ms/step - loss: 2923.4954 - mse: 2923.4954 - mae: 33.2649 - val_loss: 2794.3704 - val_mse: 2794.3704 - val_mae: 33.4036\n",
      "Epoch 4/25\n",
      "260/260 [==============================] - 1s 3ms/step - loss: 2857.3025 - mse: 2857.3025 - mae: 32.9817 - val_loss: 2774.2446 - val_mse: 2774.2446 - val_mae: 31.4385\n",
      "Epoch 5/25\n",
      "260/260 [==============================] - 1s 3ms/step - loss: 2839.9880 - mse: 2839.9880 - mae: 32.8668 - val_loss: 2749.5227 - val_mse: 2749.5227 - val_mae: 32.7869\n",
      "Epoch 6/25\n",
      "260/260 [==============================] - 1s 3ms/step - loss: 2828.6453 - mse: 2828.6453 - mae: 32.7958 - val_loss: 3283.8762 - val_mse: 3283.8762 - val_mae: 39.4992\n",
      "Epoch 7/25\n",
      "260/260 [==============================] - 1s 3ms/step - loss: 2867.8408 - mse: 2867.8408 - mae: 33.0783 - val_loss: 2759.9365 - val_mse: 2759.9365 - val_mae: 31.6137\n",
      "Epoch 8/25\n",
      "259/260 [============================>.] - ETA: 0s - loss: 2736.3186 - mse: 2736.3186 - mae: 32.3332Restoring model weights from the end of the best epoch: 5.\n",
      "260/260 [==============================] - 1s 3ms/step - loss: 2735.2756 - mse: 2735.2756 - mae: 32.3271 - val_loss: 2782.0344 - val_mse: 2782.0344 - val_mae: 33.3315\n",
      "Epoch 8: early stopping\n"
     ]
    }
   ],
   "source": [
    "opt = keras.optimizers.Adam(learning_rate=0.01) \n",
    "\n",
    "# fnn.compile(optimizer=opt, loss='mean_squared_error', metrics=['mse', 'mae'])\n",
    "fnn.compile(optimizer=opt, loss='mean_squared_error', metrics=['mse', 'mae'])\n",
    "\n",
    "batch_size = 128\n",
    "epochs = 25\n",
    "\n",
    "\n",
    "callbacks = [EarlyStopping(monitor='val_loss', patience=3, verbose=1, min_delta=0.01, restore_best_weights=True)]\n",
    "\n",
    "story = fnn.fit(X_train, y_train,\n",
    "                    batch_size=batch_size,\n",
    "                    epochs=epochs,\n",
    "                    verbose=1,\n",
    "                    validation_split = 0.25,\n",
    "               callbacks=callbacks) "
   ]
  },
  {
   "cell_type": "code",
   "execution_count": 176,
   "id": "4b1cc1ad",
   "metadata": {
    "scrolled": false
   },
   "outputs": [
    {
     "name": "stdout",
     "output_type": "stream",
     "text": [
      "346/346 [==============================] - 3s 3ms/step\n"
     ]
    },
    {
     "data": {
      "text/html": [
       "<div>\n",
       "<style scoped>\n",
       "    .dataframe tbody tr th:only-of-type {\n",
       "        vertical-align: middle;\n",
       "    }\n",
       "\n",
       "    .dataframe tbody tr th {\n",
       "        vertical-align: top;\n",
       "    }\n",
       "\n",
       "    .dataframe thead th {\n",
       "        text-align: right;\n",
       "    }\n",
       "</style>\n",
       "<table border=\"1\" class=\"dataframe\">\n",
       "  <thead>\n",
       "    <tr style=\"text-align: right;\">\n",
       "      <th></th>\n",
       "      <th>price</th>\n",
       "    </tr>\n",
       "  </thead>\n",
       "  <tbody>\n",
       "    <tr>\n",
       "      <th>count</th>\n",
       "      <td>11057.000000</td>\n",
       "    </tr>\n",
       "    <tr>\n",
       "      <th>mean</th>\n",
       "      <td>107.762131</td>\n",
       "    </tr>\n",
       "    <tr>\n",
       "      <th>std</th>\n",
       "      <td>68.017258</td>\n",
       "    </tr>\n",
       "    <tr>\n",
       "      <th>min</th>\n",
       "      <td>15.356299</td>\n",
       "    </tr>\n",
       "    <tr>\n",
       "      <th>25%</th>\n",
       "      <td>51.011524</td>\n",
       "    </tr>\n",
       "    <tr>\n",
       "      <th>50%</th>\n",
       "      <td>94.037758</td>\n",
       "    </tr>\n",
       "    <tr>\n",
       "      <th>75%</th>\n",
       "      <td>142.047211</td>\n",
       "    </tr>\n",
       "    <tr>\n",
       "      <th>max</th>\n",
       "      <td>600.798340</td>\n",
       "    </tr>\n",
       "  </tbody>\n",
       "</table>\n",
       "</div>"
      ],
      "text/plain": [
       "              price\n",
       "count  11057.000000\n",
       "mean     107.762131\n",
       "std       68.017258\n",
       "min       15.356299\n",
       "25%       51.011524\n",
       "50%       94.037758\n",
       "75%      142.047211\n",
       "max      600.798340"
      ]
     },
     "execution_count": 176,
     "metadata": {},
     "output_type": "execute_result"
    }
   ],
   "source": [
    "fnn_val_prediction = fnn.predict(X_test)\n",
    "listing_id = pd.DataFrame(X_test_listing_id, columns = [\"listing_id\"])\n",
    "fnn_val_prediction = pd.DataFrame(fnn_val_prediction, columns = [\"price\"])\n",
    "fnn_val_prediction.describe()"
   ]
  },
  {
   "cell_type": "markdown",
   "id": "1e55cc94",
   "metadata": {},
   "source": [
    "The predictions from FNN seems to be in a plausible range and no resulting null prediction."
   ]
  },
  {
   "cell_type": "markdown",
   "id": "ee41fb12",
   "metadata": {},
   "source": [
    " # 4.2.2 GRU\n",
    " \n",
    "As for RNN, GRU and Bidirectional LSTM are shown here because based on evaluation using X_test, these two performed better over all other models considered here. RNN is suitable for the task here because we have full text data for both train and test data and RNN will be able to recognise the patterns across the sequences."
   ]
  },
  {
   "cell_type": "code",
   "execution_count": 18,
   "id": "4e288def",
   "metadata": {
    "scrolled": true
   },
   "outputs": [
    {
     "name": "stdout",
     "output_type": "stream",
     "text": [
      "Model: \"model\"\n",
      "__________________________________________________________________________________________________\n",
      " Layer (type)                   Output Shape         Param #     Connected to                     \n",
      "==================================================================================================\n",
      " input_4 (InputLayer)           [(None, 63)]         0           []                               \n",
      "                                                                                                  \n",
      " input_5 (InputLayer)           [(None, 407)]        0           []                               \n",
      "                                                                                                  \n",
      " input_6 (InputLayer)           [(None, 735)]        0           []                               \n",
      "                                                                                                  \n",
      " input_7 (InputLayer)           [(None, 402)]        0           []                               \n",
      "                                                                                                  \n",
      " embedding_3 (Embedding)        (None, 63, 50)       230950      ['input_4[0][0]']                \n",
      "                                                                                                  \n",
      " embedding_4 (Embedding)        (None, 407, 50)      736850      ['input_5[0][0]']                \n",
      "                                                                                                  \n",
      " embedding_5 (Embedding)        (None, 735, 50)      1281350     ['input_6[0][0]']                \n",
      "                                                                                                  \n",
      " embedding_6 (Embedding)        (None, 402, 50)      13700       ['input_7[0][0]']                \n",
      "                                                                                                  \n",
      " gru_3 (GRU)                    (None, 25)           5775        ['embedding_3[0][0]']            \n",
      "                                                                                                  \n",
      " gru_4 (GRU)                    (None, 100)          45600       ['embedding_4[0][0]']            \n",
      "                                                                                                  \n",
      " gru_5 (GRU)                    (None, 100)          45600       ['embedding_5[0][0]']            \n",
      "                                                                                                  \n",
      " gru_6 (GRU)                    (None, 100)          45600       ['embedding_6[0][0]']            \n",
      "                                                                                                  \n",
      " dense_3 (Dense)                (None, 1)            26          ['gru_3[0][0]']                  \n",
      "                                                                                                  \n",
      " dense_4 (Dense)                (None, 1)            101         ['gru_4[0][0]']                  \n",
      "                                                                                                  \n",
      " dense_5 (Dense)                (None, 1)            101         ['gru_5[0][0]']                  \n",
      "                                                                                                  \n",
      " dense_6 (Dense)                (None, 1)            101         ['gru_6[0][0]']                  \n",
      "                                                                                                  \n",
      " input_8 (InputLayer)           [(None, 17)]         0           []                               \n",
      "                                                                                                  \n",
      " concatenate (Concatenate)      (None, 21)           0           ['dense_3[0][0]',                \n",
      "                                                                  'dense_4[0][0]',                \n",
      "                                                                  'dense_5[0][0]',                \n",
      "                                                                  'dense_6[0][0]',                \n",
      "                                                                  'input_8[0][0]']                \n",
      "                                                                                                  \n",
      " dense_7 (Dense)                (None, 256)          5632        ['concatenate[0][0]']            \n",
      "                                                                                                  \n",
      " dense_8 (Dense)                (None, 128)          32896       ['dense_7[0][0]']                \n",
      "                                                                                                  \n",
      " dense_9 (Dense)                (None, 64)           8256        ['dense_8[0][0]']                \n",
      "                                                                                                  \n",
      " dense_10 (Dense)               (None, 1)            65          ['dense_9[0][0]']                \n",
      "                                                                                                  \n",
      "==================================================================================================\n",
      "Total params: 2,452,603\n",
      "Trainable params: 2,452,603\n",
      "Non-trainable params: 0\n",
      "__________________________________________________________________________________________________\n"
     ]
    }
   ],
   "source": [
    "input_name = Input(shape=(name_pad_len, ))\n",
    "name_embeddings = Embedding(name_vocab_size, output_dim=50,\n",
    "                     embeddings_initializer = Constant(name_glove_weights),\n",
    "                     input_length = name_pad_len, trainable = True)(input_name) \n",
    "GRU_name = GRU(25)(name_embeddings)\n",
    "dense_name = Dense(1, activation =\"linear\")(GRU_name)\n",
    "\n",
    "\n",
    "input_summary = Input(shape = (summary_pad_len, ))\n",
    "summary_embeddings = Embedding(summary_vocab_size, output_dim=50,\n",
    "                     embeddings_initializer = Constant(summary_glove_weights),\n",
    "                     input_length = summary_pad_len, trainable = True)(input_summary)\n",
    "GRU_summary = GRU(100)(summary_embeddings)\n",
    "dense_summary = Dense(1, activation =\"linear\")(GRU_summary)\n",
    "\n",
    "\n",
    "input_description = Input(shape = (description_pad_len, ))\n",
    "description_embeddings = Embedding(description_vocab_size, output_dim=50,\n",
    "                     embeddings_initializer = Constant(description_glove_weights),\n",
    "                     input_length = description_pad_len, trainable = True)(input_description)\n",
    "GRU_description = GRU(100)(description_embeddings)\n",
    "dense_description = Dense(1, activation=\"linear\")(GRU_description)\n",
    "\n",
    "\n",
    "input_amenities = Input(shape = (amenities_pad_len, ))\n",
    "amenities_embeddings = Embedding(amenities_vocab_size, output_dim=50,\n",
    "                     embeddings_initializer = Constant(amenities_glove_weights),\n",
    "                     input_length = description_pad_len, trainable = True)(input_amenities)\n",
    "GRU_amenities = GRU(100)(amenities_embeddings)\n",
    "dense_amenities = Dense(1, activation=\"linear\")(GRU_amenities)\n",
    "\n",
    "\n",
    "input_nontext = Input(shape=(X_train.shape[1],))\n",
    "\n",
    "\n",
    "# Concatenate\n",
    "concat = concatenate([dense_name, dense_summary, dense_description, dense_amenities, input_nontext])\n",
    "dense_full1 = Dense(256, activation = \"relu\")(concat)\n",
    "dense_full2 = Dense(128, activation=\"relu\")(dense_full1)\n",
    "dense_full3 = Dense(64, activation=\"relu\")(dense_full2)\n",
    "output_layer = Dense(1, activation = \"linear\")(dense_full3)\n",
    "\n",
    "model = Model(inputs=[input_name, input_summary, input_description, input_amenities, input_nontext], outputs = output_layer)\n",
    "model.summary()"
   ]
  },
  {
   "cell_type": "code",
   "execution_count": 20,
   "id": "4edd4bbc",
   "metadata": {},
   "outputs": [
    {
     "name": "stdout",
     "output_type": "stream",
     "text": [
      "Epoch 1/25\n",
      "260/260 [==============================] - 1947s 7s/step - loss: 3406.3284 - mse: 3406.3284 - mae: 35.9482 - val_loss: 2908.2617 - val_mse: 2908.2617 - val_mae: 36.1614\n",
      "Epoch 2/25\n",
      "260/260 [==============================] - 2083s 8s/step - loss: 2488.1711 - mse: 2488.1711 - mae: 30.9196 - val_loss: 2817.3027 - val_mse: 2817.3027 - val_mae: 35.2737\n",
      "Epoch 3/25\n",
      "260/260 [==============================] - 2115s 8s/step - loss: 2008.9611 - mse: 2008.9611 - mae: 27.6247 - val_loss: 2556.6384 - val_mse: 2556.6384 - val_mae: 30.9675\n",
      "Epoch 4/25\n",
      "260/260 [==============================] - 2137s 8s/step - loss: 1655.8984 - mse: 1655.8984 - mae: 25.2366 - val_loss: 2894.1531 - val_mse: 2894.1531 - val_mae: 31.7742\n",
      "Epoch 5/25\n",
      "260/260 [==============================] - 2155s 8s/step - loss: 1430.2676 - mse: 1430.2676 - mae: 23.6333 - val_loss: 2854.5586 - val_mse: 2854.5586 - val_mae: 31.3858\n",
      "Epoch 6/25\n",
      "260/260 [==============================] - ETA: 0s - loss: 1251.6787 - mse: 1251.6787 - mae: 22.3736Restoring model weights from the end of the best epoch: 3.\n",
      "260/260 [==============================] - 2143s 8s/step - loss: 1251.6787 - mse: 1251.6787 - mae: 22.3736 - val_loss: 2833.4216 - val_mse: 2833.4216 - val_mae: 31.0926\n",
      "Epoch 6: early stopping\n",
      "12580.574478626251\n"
     ]
    }
   ],
   "source": [
    "opt = keras.optimizers.Adam(learning_rate=0.01) \n",
    "\n",
    "model.compile(optimizer = opt, loss='mean_squared_error', metrics=['mse', 'mae'])\n",
    "\n",
    "start = time.time()\n",
    "\n",
    "batch_size = 128\n",
    "epochs = 25\n",
    "\n",
    "callbacks = [EarlyStopping(monitor='val_loss', patience=3, verbose=1, min_delta=0.01, restore_best_weights=True)]\n",
    "\n",
    "story = model.fit([padded_X_train_name, padded_X_train_summary, padded_X_train_description, padded_X_train_amenities, X_train], y_train,\n",
    "                    batch_size = batch_size,\n",
    "                    epochs = epochs,\n",
    "                    verbose = 1,\n",
    "                    validation_split = 0.25,\n",
    "                  callbacks = callbacks) \n",
    "\n",
    "end = time.time()\n",
    "\n",
    "print(end - start)"
   ]
  },
  {
   "cell_type": "code",
   "execution_count": 21,
   "id": "8f58948e",
   "metadata": {},
   "outputs": [
    {
     "name": "stdout",
     "output_type": "stream",
     "text": [
      "346/346 [==============================] - 92s 261ms/step\n"
     ]
    }
   ],
   "source": [
    "gru_val_prediction = model.predict([padded_X_test_name, padded_X_test_summary, padded_X_test_description, padded_X_test_amenities, X_test])\n",
    "gru_val_prediction = pd.DataFrame(gru_val_prediction, columns = [\"price\"])\n",
    "gru_val_result = pd.concat([X_test_listing_id, gru_val_prediction], axis = 1)"
   ]
  },
  {
   "cell_type": "markdown",
   "id": "4917c14b",
   "metadata": {},
   "source": [
    "# 4.2.3 Bidirectional LSTM (BiLSTM)"
   ]
  },
  {
   "cell_type": "code",
   "execution_count": 141,
   "id": "ced4b90d",
   "metadata": {
    "collapsed": true
   },
   "outputs": [
    {
     "name": "stdout",
     "output_type": "stream",
     "text": [
      "Model: \"model_4\"\n",
      "__________________________________________________________________________________________________\n",
      " Layer (type)                   Output Shape         Param #     Connected to                     \n",
      "==================================================================================================\n",
      " input_13 (InputLayer)          [(None, 63)]         0           []                               \n",
      "                                                                                                  \n",
      " input_14 (InputLayer)          [(None, 407)]        0           []                               \n",
      "                                                                                                  \n",
      " input_15 (InputLayer)          [(None, 735)]        0           []                               \n",
      "                                                                                                  \n",
      " input_16 (InputLayer)          [(None, 402)]        0           []                               \n",
      "                                                                                                  \n",
      " embedding_5 (Embedding)        (None, 63, 50)       230950      ['input_13[0][0]']               \n",
      "                                                                                                  \n",
      " embedding_6 (Embedding)        (None, 407, 50)      736850      ['input_14[0][0]']               \n",
      "                                                                                                  \n",
      " embedding_7 (Embedding)        (None, 735, 50)      1281350     ['input_15[0][0]']               \n",
      "                                                                                                  \n",
      " embedding_8 (Embedding)        (None, 402, 50)      13700       ['input_16[0][0]']               \n",
      "                                                                                                  \n",
      " bidirectional_4 (Bidirectional  (None, 50)          15200       ['embedding_5[0][0]']            \n",
      " )                                                                                                \n",
      "                                                                                                  \n",
      " bidirectional_5 (Bidirectional  (None, 200)         120800      ['embedding_6[0][0]']            \n",
      " )                                                                                                \n",
      "                                                                                                  \n",
      " bidirectional_6 (Bidirectional  (None, 200)         120800      ['embedding_7[0][0]']            \n",
      " )                                                                                                \n",
      "                                                                                                  \n",
      " bidirectional_7 (Bidirectional  (None, 200)         120800      ['embedding_8[0][0]']            \n",
      " )                                                                                                \n",
      "                                                                                                  \n",
      " dense_25 (Dense)               (None, 1)            51          ['bidirectional_4[0][0]']        \n",
      "                                                                                                  \n",
      " dense_26 (Dense)               (None, 1)            201         ['bidirectional_5[0][0]']        \n",
      "                                                                                                  \n",
      " dense_27 (Dense)               (None, 1)            201         ['bidirectional_6[0][0]']        \n",
      "                                                                                                  \n",
      " dense_28 (Dense)               (None, 1)            201         ['bidirectional_7[0][0]']        \n",
      "                                                                                                  \n",
      " input_17 (InputLayer)          [(None, 17)]         0           []                               \n",
      "                                                                                                  \n",
      " concatenate_1 (Concatenate)    (None, 21)           0           ['dense_25[0][0]',               \n",
      "                                                                  'dense_26[0][0]',               \n",
      "                                                                  'dense_27[0][0]',               \n",
      "                                                                  'dense_28[0][0]',               \n",
      "                                                                  'input_17[0][0]']               \n",
      "                                                                                                  \n",
      " dense_29 (Dense)               (None, 128)          2816        ['concatenate_1[0][0]']          \n",
      "                                                                                                  \n",
      " dense_30 (Dense)               (None, 64)           8256        ['dense_29[0][0]']               \n",
      "                                                                                                  \n",
      " dense_31 (Dense)               (None, 1)            65          ['dense_30[0][0]']               \n",
      "                                                                                                  \n",
      "==================================================================================================\n",
      "Total params: 2,652,241\n",
      "Trainable params: 2,652,241\n",
      "Non-trainable params: 0\n",
      "__________________________________________________________________________________________________\n"
     ]
    }
   ],
   "source": [
    "input_name = Input(shape=(name_pad_len, ))\n",
    "name_embeddings = Embedding(name_vocab_size, output_dim=50,\n",
    "                     embeddings_initializer = Constant(name_glove_weights),\n",
    "                     input_length = name_pad_len, trainable = True)(input_name)   # try trainable False?\n",
    "LSTM_name1 = Bidirectional(LSTM(25, return_sequences = False), merge_mode = 'concat')(name_embeddings)\n",
    "dense_name = Dense(1, activation =\"linear\")(LSTM_name1)\n",
    "\n",
    "\n",
    "input_summary = Input(shape = (summary_pad_len, ))\n",
    "summary_embeddings = Embedding(summary_vocab_size, output_dim=50,\n",
    "                     embeddings_initializer = Constant(summary_glove_weights),\n",
    "                     input_length = summary_pad_len, trainable = True)(input_summary)\n",
    "LSTM_summary1 = Bidirectional(LSTM(100, return_sequences = False), merge_mode = 'concat')(summary_embeddings)\n",
    "dense_summary = Dense(1, activation =\"linear\")(LSTM_summary1)\n",
    "\n",
    "\n",
    "input_description = Input(shape = (description_pad_len, ))\n",
    "description_embeddings = Embedding(description_vocab_size, output_dim=50,\n",
    "                     embeddings_initializer = Constant(description_glove_weights),\n",
    "                     input_length = description_pad_len, trainable = True)(input_description)\n",
    "LSTM_description1 = Bidirectional(LSTM(100, return_sequences = False), merge_mode = 'concat')(description_embeddings)\n",
    "dense_description = Dense(1, activation=\"linear\")(LSTM_description1)\n",
    "\n",
    "\n",
    "input_amenities = Input(shape = (amenities_pad_len, ))\n",
    "amenities_embeddings = Embedding(amenities_vocab_size, output_dim=50,\n",
    "                     embeddings_initializer = Constant(amenities_glove_weights),\n",
    "                     input_length = description_pad_len, trainable = True)(input_amenities)\n",
    "LSTM_amenities1 = Bidirectional(LSTM(100, return_sequences = False), merge_mode = 'concat')(amenities_embeddings)\n",
    "dense_amenities = Dense(1, activation=\"linear\")(LSTM_amenities1)\n",
    "\n",
    "\n",
    "input_nontext = Input(shape=(X_train.shape[1],))\n",
    "\n",
    "\n",
    "# Concatenate\n",
    "concat = concatenate([dense_name, dense_summary, dense_description, dense_amenities, input_nontext])\n",
    "# dense_full1 = Dense(256, activation = \"relu\")(concat)\n",
    "dense_full2 = Dense(128, activation=\"relu\")(concat) # (dense_full1)\n",
    "dense_full3 = Dense(64, activation=\"relu\")(dense_full2)\n",
    "output_layer = Dense(1, activation = \"linear\")(dense_full3)\n",
    "\n",
    "model = Model(inputs=[input_name, input_summary, input_description, input_amenities, input_nontext], outputs = output_layer)\n",
    "model.summary()"
   ]
  },
  {
   "cell_type": "code",
   "execution_count": 142,
   "id": "b711b4d6",
   "metadata": {
    "collapsed": true
   },
   "outputs": [
    {
     "name": "stdout",
     "output_type": "stream",
     "text": [
      "Epoch 1/25\n",
      "260/260 [==============================] - 9118s 35s/step - loss: 4628.7354 - mse: 4628.7354 - mae: 43.3041 - val_loss: 2998.5730 - val_mse: 2998.5730 - val_mae: 33.9816\n",
      "Epoch 2/25\n",
      "260/260 [==============================] - 10172s 39s/step - loss: 2911.0464 - mse: 2911.0464 - mae: 33.7629 - val_loss: 2799.9912 - val_mse: 2799.9912 - val_mae: 32.5115\n",
      "Epoch 3/25\n",
      "260/260 [==============================] - 10431s 40s/step - loss: 2494.3552 - mse: 2494.3552 - mae: 31.1039 - val_loss: 2665.5762 - val_mse: 2665.5762 - val_mae: 31.5786\n",
      "Epoch 4/25\n",
      "260/260 [==============================] - 10373s 40s/step - loss: 2125.6667 - mse: 2125.6667 - mae: 28.5542 - val_loss: 2782.5066 - val_mse: 2782.5066 - val_mae: 33.6522\n",
      "Epoch 5/25\n",
      "260/260 [==============================] - 10455s 40s/step - loss: 1848.5161 - mse: 1848.5161 - mae: 26.7494 - val_loss: 2854.8228 - val_mse: 2854.8228 - val_mae: 31.5665\n",
      "Epoch 6/25\n",
      "260/260 [==============================] - ETA: 0s - loss: 1687.5289 - mse: 1687.5289 - mae: 25.6955 Restoring model weights from the end of the best epoch: 3.\n",
      "260/260 [==============================] - 10616s 41s/step - loss: 1687.5289 - mse: 1687.5289 - mae: 25.6955 - val_loss: 3112.2971 - val_mse: 3112.2971 - val_mae: 33.9393\n",
      "Epoch 6: early stopping\n",
      "61164.87641596794\n"
     ]
    }
   ],
   "source": [
    "opt = keras.optimizers.Adam(learning_rate=0.01) \n",
    "\n",
    "model.compile(optimizer = opt, loss='mean_squared_error', metrics=['mse', 'mae'])\n",
    "\n",
    "start = time.time()\n",
    "\n",
    "batch_size = 128\n",
    "epochs = 25\n",
    "\n",
    "callbacks = [EarlyStopping(monitor='val_loss', patience=3, verbose=1, min_delta=0.01, restore_best_weights=True)]\n",
    "\n",
    "story = model.fit([padded_X_train_name, padded_X_train_summary, padded_X_train_description, padded_X_train_amenities, X_train], y_train,\n",
    "                    batch_size = batch_size,\n",
    "                    epochs = epochs,\n",
    "                    verbose = 1,\n",
    "                    validation_split = 0.25,\n",
    "                  callbacks = callbacks) \n",
    "\n",
    "end = time.time()\n",
    "\n",
    "print(end - start)"
   ]
  },
  {
   "cell_type": "code",
   "execution_count": 143,
   "id": "37e05822",
   "metadata": {
    "scrolled": false
   },
   "outputs": [
    {
     "name": "stdout",
     "output_type": "stream",
     "text": [
      "346/346 [==============================] - 638s 2s/step\n"
     ]
    },
    {
     "data": {
      "text/html": [
       "<div>\n",
       "<style scoped>\n",
       "    .dataframe tbody tr th:only-of-type {\n",
       "        vertical-align: middle;\n",
       "    }\n",
       "\n",
       "    .dataframe tbody tr th {\n",
       "        vertical-align: top;\n",
       "    }\n",
       "\n",
       "    .dataframe thead th {\n",
       "        text-align: right;\n",
       "    }\n",
       "</style>\n",
       "<table border=\"1\" class=\"dataframe\">\n",
       "  <thead>\n",
       "    <tr style=\"text-align: right;\">\n",
       "      <th></th>\n",
       "      <th>price</th>\n",
       "    </tr>\n",
       "  </thead>\n",
       "  <tbody>\n",
       "    <tr>\n",
       "      <th>count</th>\n",
       "      <td>11057.000000</td>\n",
       "    </tr>\n",
       "    <tr>\n",
       "      <th>mean</th>\n",
       "      <td>103.877930</td>\n",
       "    </tr>\n",
       "    <tr>\n",
       "      <th>std</th>\n",
       "      <td>65.880722</td>\n",
       "    </tr>\n",
       "    <tr>\n",
       "      <th>min</th>\n",
       "      <td>17.682997</td>\n",
       "    </tr>\n",
       "    <tr>\n",
       "      <th>25%</th>\n",
       "      <td>49.894409</td>\n",
       "    </tr>\n",
       "    <tr>\n",
       "      <th>50%</th>\n",
       "      <td>88.582153</td>\n",
       "    </tr>\n",
       "    <tr>\n",
       "      <th>75%</th>\n",
       "      <td>137.548981</td>\n",
       "    </tr>\n",
       "    <tr>\n",
       "      <th>max</th>\n",
       "      <td>576.065674</td>\n",
       "    </tr>\n",
       "  </tbody>\n",
       "</table>\n",
       "</div>"
      ],
      "text/plain": [
       "              price\n",
       "count  11057.000000\n",
       "mean     103.877930\n",
       "std       65.880722\n",
       "min       17.682997\n",
       "25%       49.894409\n",
       "50%       88.582153\n",
       "75%      137.548981\n",
       "max      576.065674"
      ]
     },
     "execution_count": 143,
     "metadata": {},
     "output_type": "execute_result"
    }
   ],
   "source": [
    "bilstm_val_prediction = model.predict([padded_X_test_name, padded_X_test_summary, padded_X_test_description, padded_X_test_amenities, X_test])\n",
    "listing_id = pd.DataFrame(X_test_listing_id, columns = [\"listing_id\"])\n",
    "bilstm_val_prediction = pd.DataFrame(bilstm_val_prediction, columns = [\"price\"])\n",
    "bilstm_val_prediction.describe()"
   ]
  },
  {
   "cell_type": "markdown",
   "id": "cb054e85",
   "metadata": {},
   "source": [
    "# 5. Model Comparison and selection"
   ]
  },
  {
   "cell_type": "code",
   "execution_count": 31,
   "id": "276624be",
   "metadata": {
    "scrolled": true
   },
   "outputs": [
    {
     "data": {
      "text/html": [
       "<div>\n",
       "<style scoped>\n",
       "    .dataframe tbody tr th:only-of-type {\n",
       "        vertical-align: middle;\n",
       "    }\n",
       "\n",
       "    .dataframe tbody tr th {\n",
       "        vertical-align: top;\n",
       "    }\n",
       "\n",
       "    .dataframe thead th {\n",
       "        text-align: right;\n",
       "    }\n",
       "</style>\n",
       "<table border=\"1\" class=\"dataframe\">\n",
       "  <thead>\n",
       "    <tr style=\"text-align: right;\">\n",
       "      <th></th>\n",
       "      <th>Model</th>\n",
       "      <th>MAE</th>\n",
       "      <th>MSE</th>\n",
       "    </tr>\n",
       "  </thead>\n",
       "  <tbody>\n",
       "    <tr>\n",
       "      <th>0</th>\n",
       "      <td>GRU</td>\n",
       "      <td>31.547228</td>\n",
       "      <td>2653.220379</td>\n",
       "    </tr>\n",
       "    <tr>\n",
       "      <th>1</th>\n",
       "      <td>BiLSTM</td>\n",
       "      <td>32.682837</td>\n",
       "      <td>2821.475437</td>\n",
       "    </tr>\n",
       "    <tr>\n",
       "      <th>2</th>\n",
       "      <td>GRU with summary only</td>\n",
       "      <td>32.750107</td>\n",
       "      <td>2832.827207</td>\n",
       "    </tr>\n",
       "    <tr>\n",
       "      <th>3</th>\n",
       "      <td>LSTM with summary only</td>\n",
       "      <td>32.888887</td>\n",
       "      <td>2916.223470</td>\n",
       "    </tr>\n",
       "    <tr>\n",
       "      <th>4</th>\n",
       "      <td>LSTM</td>\n",
       "      <td>33.006442</td>\n",
       "      <td>2807.883639</td>\n",
       "    </tr>\n",
       "    <tr>\n",
       "      <th>5</th>\n",
       "      <td>FNN</td>\n",
       "      <td>33.323926</td>\n",
       "      <td>2866.239236</td>\n",
       "    </tr>\n",
       "    <tr>\n",
       "      <th>6</th>\n",
       "      <td>LR with variable selection</td>\n",
       "      <td>35.453685</td>\n",
       "      <td>3175.716181</td>\n",
       "    </tr>\n",
       "    <tr>\n",
       "      <th>7</th>\n",
       "      <td>LR</td>\n",
       "      <td>35.459160</td>\n",
       "      <td>3175.964149</td>\n",
       "    </tr>\n",
       "  </tbody>\n",
       "</table>\n",
       "</div>"
      ],
      "text/plain": [
       "                        Model        MAE          MSE\n",
       "0                         GRU  31.547228  2653.220379\n",
       "1                      BiLSTM  32.682837  2821.475437\n",
       "2       GRU with summary only  32.750107  2832.827207\n",
       "3      LSTM with summary only  32.888887  2916.223470\n",
       "4                        LSTM  33.006442  2807.883639\n",
       "5                         FNN  33.323926  2866.239236\n",
       "6  LR with variable selection  35.453685  3175.716181\n",
       "7                          LR  35.459160  3175.964149"
      ]
     },
     "execution_count": 31,
     "metadata": {},
     "output_type": "execute_result"
    }
   ],
   "source": [
    "models_comparison = pd.read_csv(\"comparison.csv\", sep = \",\", encoding = \"utf-8\")\n",
    "models_comparison"
   ]
  },
  {
   "cell_type": "markdown",
   "id": "655f94d6",
   "metadata": {},
   "source": [
    "Comparing all considered models, most results are expected while some are not:\n",
    "1. Linear Regression performed worst as it only include non-text features with variable selection improved it slightly.\n",
    "2. FNN with only non-text features performed only better than linear regressions.\n",
    "3. BiLSTM performed better than LSTM as it is more complex.\n",
    "4. GRU with summary was included after seeing the unexpected result of LSTM with summary only perform better than full LSTM but it performs worst than full GRU which is to be expected.\n",
    "5. GRU performs better than LSTM and BiLSTM is not expected since generally GRU uses less memory and is faster than LSTM but LSTM is more accurate when using datasets with longer sequences.\n",
    "\n",
    "It is also understandable that the results of neural networks is affected by the randomness during training and GRU might not actually be the best one overall (since the mae and mse is not a lot lower than the others) but according to the model valuation using X_test and these training, GRU performed the best out of all considered model and thus are selected to be applied to Test Set."
   ]
  },
  {
   "cell_type": "markdown",
   "id": "b5be13c8",
   "metadata": {},
   "source": [
    "# 6. GRU application to Test Set\n",
    "\n",
    "After deciding for GRU, all train data should be combined together for model training so that we could use all available data more efficiently."
   ]
  },
  {
   "cell_type": "markdown",
   "id": "97718004",
   "metadata": {},
   "source": [
    "Firstly, check if mode of X (X_test and X_train combined before the splitting) and X_train are the same for 'host_since', 'host_total_listings_count','host_is_superhost','host_has_profile_pic', 'host_identity_verified', 'bathrooms', 'bedrooms', 'beds'."
   ]
  },
  {
   "cell_type": "code",
   "execution_count": 33,
   "id": "72d8b947",
   "metadata": {},
   "outputs": [],
   "source": [
    "X_train, X_test, y_train, y_test = train_test_split(X, y, test_size = 0.20, random_state = 934)"
   ]
  },
  {
   "cell_type": "code",
   "execution_count": 12,
   "id": "0df1b952",
   "metadata": {
    "scrolled": true
   },
   "outputs": [
    {
     "name": "stdout",
     "output_type": "stream",
     "text": [
      "host_since :  True\n",
      "host_total_listings_count :  True\n",
      "host_is_superhost :  True\n",
      "host_has_profile_pic :  True\n",
      "host_identity_verified :  True\n",
      "bathrooms :  True\n",
      "bedrooms :  True\n",
      "beds :  True\n"
     ]
    }
   ],
   "source": [
    "for col in ['host_since', 'host_total_listings_count','host_is_superhost','host_has_profile_pic', \n",
    "            'host_identity_verified', 'bathrooms', 'bedrooms', 'beds']:\n",
    "    print(col, ': ', mode(X[col]) == mode(X_train[col]))"
   ]
  },
  {
   "cell_type": "markdown",
   "id": "67e4219e",
   "metadata": {},
   "source": [
    "The editted non-text data can directly be combined since those replaced missing values will still be replaced by the same mode values after combining X_train and X_test again. y_train and y_test can be concatenated together directly since no changes are made to them. After that, all similar steps are performed again for the GRU while using train instead of X_train."
   ]
  },
  {
   "cell_type": "code",
   "execution_count": 39,
   "id": "ec1d945a",
   "metadata": {},
   "outputs": [],
   "source": [
    "X_train = pd.read_csv(\"prepared_X_train.csv\", sep=\",\", encoding = \"utf-8\")\n",
    "X_test = pd.read_csv(\"prepared_X_test.csv\", sep=\",\", encoding = \"utf-8\")\n",
    "test = pd.read_csv(\"prepared_test.csv\", sep=\",\", encoding = \"utf-8\")\n",
    "# Intermediate result that couldn't be uploaded to moodle.\n",
    "# These are the data after the data_preparation function in section 3.3\n",
    "# Please let me know if needed and I would be happy to email them\n",
    "\n",
    "train = pd.concat([X_train, X_test])\n",
    "y = pd.concat([y_train, y_test])\n",
    "\n",
    "train_text = train[['name', 'summary', 'description', 'amenities']]\n",
    "test_text = test[['name', 'summary', 'description', 'amenities']]\n",
    "\n",
    "for df in [train, test]:\n",
    "    df = df.drop(['name', 'summary', 'description', 'amenities'], axis = 1, inplace = True)\n",
    "\n",
    "scaler = StandardScaler()\n",
    "train = scaler.fit_transform(train)\n",
    "test = scaler.transform(test)"
   ]
  },
  {
   "cell_type": "code",
   "execution_count": 40,
   "id": "a20c9974",
   "metadata": {
    "scrolled": true
   },
   "outputs": [
    {
     "name": "stdout",
     "output_type": "stream",
     "text": [
      "    name       CDF\n",
      "0   21.6  0.217567\n",
      "1   42.2  0.884976\n",
      "2   62.8  0.998788\n",
      "3   83.4  0.999692\n",
      "4  104.0  0.999910\n",
      "5  124.6  0.999946\n",
      "6  145.2  0.999946\n",
      "7  165.8  0.999964\n",
      "8  186.4  0.999982\n",
      "9  207.0  1.000000 \n",
      "\n",
      "   summary       CDF\n",
      "0     83.8  0.118805\n",
      "1    164.6  0.282306\n",
      "2    245.4  0.520567\n",
      "3    326.2  0.780714\n",
      "4    407.0  0.986361\n",
      "5    487.8  0.991191\n",
      "6    568.6  0.992258\n",
      "7    649.4  0.994537\n",
      "8    730.2  0.998390\n",
      "9    811.0  1.000000 \n",
      "\n",
      "   description       CDF\n",
      "0         93.0  0.062930\n",
      "1        185.0  0.124882\n",
      "2        277.0  0.185479\n",
      "3        369.0  0.266261\n",
      "4        461.0  0.314974\n",
      "5        553.0  0.365042\n",
      "6        645.0  0.548748\n",
      "7        737.0  0.934104\n",
      "8        829.0  0.997920\n",
      "9        921.0  1.000000 \n",
      "\n",
      "   amenities       CDF\n",
      "0      139.7  0.215325\n",
      "1      270.4  0.655832\n",
      "2      401.1  0.904819\n",
      "3      531.8  0.984064\n",
      "4      662.5  0.996473\n",
      "5      793.2  0.998589\n",
      "6      923.9  0.999367\n",
      "7     1054.6  0.999765\n",
      "8     1185.3  0.999910\n",
      "9     1316.0  1.000000 \n",
      "\n"
     ]
    },
    {
     "data": {
      "text/plain": [
       "array([[<AxesSubplot:title={'center':'name'}>,\n",
       "        <AxesSubplot:title={'center':'summary'}>],\n",
       "       [<AxesSubplot:title={'center':'description'}>,\n",
       "        <AxesSubplot:title={'center':'amenities'}>]], dtype=object)"
      ]
     },
     "execution_count": 40,
     "metadata": {},
     "output_type": "execute_result"
    },
    {
     "data": {
      "image/png": "[encoded data removed]",
      "text/plain": [
       "<Figure size 432x288 with 4 Axes>"
      ]
     },
     "metadata": {
      "needs_background": "light"
     },
     "output_type": "display_data"
    }
   ],
   "source": [
    "train_text = pd.concat([X_train_text, X_test_text])\n",
    "\n",
    "train_length = train_text.copy()\n",
    "\n",
    "for col in train_length.columns:\n",
    "    train_length[col] = train_length[col].apply(len)\n",
    "\n",
    "for col in train_length.columns:\n",
    "    d, v = np.histogram(train_length[col])\n",
    "    c = np.cumsum(d)/train_length.shape[0]\n",
    "    print (pd.DataFrame({col : v[1:], 'CDF' : c}), \"\\n\") \n",
    "\n",
    "    # Exclude the starting value of bins so that the length of density and values match, \n",
    "    # the resulting data frame is in the format of: (ending value, CDF)\n",
    "\n",
    "train_length.hist(density = True, cumulative = True, label='CDF',\n",
    "             histtype = 'step', alpha=0.8, color = 'k')"
   ]
  },
  {
   "cell_type": "code",
   "execution_count": 45,
   "id": "a51a36fe",
   "metadata": {},
   "outputs": [],
   "source": [
    "name_pad_len = 63\n",
    "summary_pad_len = 407\n",
    "description_pad_len = 737 # increased to 737 fom 735\n",
    "amenities_pad_len = 402"
   ]
  },
  {
   "cell_type": "code",
   "execution_count": 47,
   "id": "d91aa653",
   "metadata": {
    "scrolled": false
   },
   "outputs": [
    {
     "name": "stdout",
     "output_type": "stream",
     "text": [
      "Start embedding process for 5127 words.\n",
      "Created embedding matrix of shape (5128, 50) in 0.0009328206380208333 min \n",
      "Encountered 1110 out-of-vocabulary words.\n",
      "Start embedding process for 16292 words.\n",
      "Created embedding matrix of shape (16293, 50) in 0.004114282131195068 min \n",
      "Encountered 4089 out-of-vocabulary words.\n",
      "Start embedding process for 28434 words.\n",
      "Created embedding matrix of shape (28435, 50) in 0.0036977887153625487 min \n",
      "Encountered 9822 out-of-vocabulary words.\n",
      "Start embedding process for 275 words.\n",
      "Created embedding matrix of shape (276, 50) in 0.00016643206278483074 min \n",
      "Encountered 2 out-of-vocabulary words.\n"
     ]
    }
   ],
   "source": [
    "# name\n",
    "name_tokenizer = Tokenizer(oov_token = 1, filters = '!\"#$%&()*+,-.:;<=>?@[\\\\]^`{|}~\\t\\n', lower = False)\n",
    "name_tokenizer.fit_on_texts(train_text.name)\n",
    "train_name_tokens = name_tokenizer.texts_to_sequences(train_text.name)\n",
    "test_name_tokens = name_tokenizer.texts_to_sequences(test_text.name)\n",
    "\n",
    "# summary\n",
    "summary_tokenizer = Tokenizer(oov_token = 1, filters = '!\"#$%&()*+,-.:;<=>?@[\\\\]^`{|}~\\t\\n', lower = False)\n",
    "summary_tokenizer.fit_on_texts(train_text.summary)\n",
    "train_summary_tokens = summary_tokenizer.texts_to_sequences(train_text.summary)\n",
    "test_summary_tokens = summary_tokenizer.texts_to_sequences(test_text.summary)\n",
    "\n",
    "# description\n",
    "description_tokenizer = Tokenizer(oov_token = 1, filters = '!\"#$%&()*+,-.:;<=>?@[\\\\]^`{|}~\\t\\n', lower = False)\n",
    "description_tokenizer.fit_on_texts(train_text.description)\n",
    "train_description_tokens = description_tokenizer.texts_to_sequences(train_text.description)\n",
    "test_description_tokens = description_tokenizer.texts_to_sequences(test_text.description)\n",
    "\n",
    "# amenities\n",
    "amenities_tokenizer = Tokenizer(oov_token = 1, filters = '!\"#$%&()*+,-.:;<=>?@[\\\\]^`{|}~\\t\\n', lower = False)\n",
    "amenities_tokenizer.fit_on_texts(train_text.amenities)\n",
    "train_amenities_tokens = amenities_tokenizer.texts_to_sequences(train_text.amenities)\n",
    "test_amenities_tokens = amenities_tokenizer.texts_to_sequences(test_text.amenities)\n",
    "\n",
    "# padding the sequences\n",
    "\n",
    "padded_train_name = pad_sequences(train_name_tokens, name_pad_len)\n",
    "padded_test_name = pad_sequences(test_name_tokens, name_pad_len)\n",
    "\n",
    "padded_train_summary = pad_sequences(train_summary_tokens, summary_pad_len)\n",
    "padded_test_summary = pad_sequences(test_summary_tokens, summary_pad_len)\n",
    "\n",
    "padded_train_description = pad_sequences(train_description_tokens, description_pad_len)\n",
    "padded_test_description = pad_sequences(test_description_tokens, description_pad_len)\n",
    "\n",
    "padded_train_amenities = pad_sequences(train_amenities_tokens, amenities_pad_len)\n",
    "padded_test_amenities = pad_sequences(test_amenities_tokens, amenities_pad_len)\n",
    "\n",
    "name_vocab_size = len(name_tokenizer.word_index) + 1\n",
    "summary_vocab_size = len(summary_tokenizer.word_index) + 1\n",
    "description_vocab_size = len(description_tokenizer.word_index) + 1\n",
    "amenities_vocab_size = len(amenities_tokenizer.word_index) + 1\n",
    "\n",
    "# Load GloVe embeddings\n",
    "glove = 'glove.6B.50d.txt'\n",
    "\n",
    "glove_index = {}\n",
    "start = time.time()\n",
    "i = 0\n",
    "with open(glove, 'r', encoding=\"utf8\") as f:\n",
    "    for line in f:\n",
    "        values = line.split()\n",
    "        word = values[0]\n",
    "        coefs = np.asarray(values[1:], dtype='float32')\n",
    "        glove_index[word] = coefs\n",
    "        i += 1\n",
    "        #if i % 50000 == 0:\n",
    "            #print('Read {} lines of embeddings in {} sec.'.format(i, time.time()-start))\n",
    "\n",
    "name_glove_weights, _ = get_embedding_matrix(name_tokenizer, glove_index, name_vocab_size)\n",
    "summary_glove_weights, _ = get_embedding_matrix(summary_tokenizer, glove_index, summary_vocab_size)\n",
    "description_glove_weights, _ = get_embedding_matrix(description_tokenizer, glove_index, description_vocab_size)\n",
    "amenities_glove_weights, _ = get_embedding_matrix(amenities_tokenizer, glove_index, amenities_vocab_size)"
   ]
  },
  {
   "cell_type": "code",
   "execution_count": 48,
   "id": "6cee63e9",
   "metadata": {
    "scrolled": true
   },
   "outputs": [
    {
     "name": "stdout",
     "output_type": "stream",
     "text": [
      "Model: \"model_2\"\n",
      "__________________________________________________________________________________________________\n",
      " Layer (type)                   Output Shape         Param #     Connected to                     \n",
      "==================================================================================================\n",
      " input_8 (InputLayer)           [(None, 63)]         0           []                               \n",
      "                                                                                                  \n",
      " input_9 (InputLayer)           [(None, 407)]        0           []                               \n",
      "                                                                                                  \n",
      " input_10 (InputLayer)          [(None, 737)]        0           []                               \n",
      "                                                                                                  \n",
      " input_11 (InputLayer)          [(None, 402)]        0           []                               \n",
      "                                                                                                  \n",
      " embedding_5 (Embedding)        (None, 63, 50)       256400      ['input_8[0][0]']                \n",
      "                                                                                                  \n",
      " embedding_6 (Embedding)        (None, 407, 50)      814650      ['input_9[0][0]']                \n",
      "                                                                                                  \n",
      " embedding_7 (Embedding)        (None, 737, 50)      1421750     ['input_10[0][0]']               \n",
      "                                                                                                  \n",
      " embedding_8 (Embedding)        (None, 402, 50)      13800       ['input_11[0][0]']               \n",
      "                                                                                                  \n",
      " gru_5 (GRU)                    (None, 25)           5775        ['embedding_5[0][0]']            \n",
      "                                                                                                  \n",
      " gru_6 (GRU)                    (None, 100)          45600       ['embedding_6[0][0]']            \n",
      "                                                                                                  \n",
      " gru_7 (GRU)                    (None, 100)          45600       ['embedding_7[0][0]']            \n",
      "                                                                                                  \n",
      " gru_8 (GRU)                    (None, 100)          45600       ['embedding_8[0][0]']            \n",
      "                                                                                                  \n",
      " dense_13 (Dense)               (None, 1)            26          ['gru_5[0][0]']                  \n",
      "                                                                                                  \n",
      " dense_14 (Dense)               (None, 1)            101         ['gru_6[0][0]']                  \n",
      "                                                                                                  \n",
      " dense_15 (Dense)               (None, 1)            101         ['gru_7[0][0]']                  \n",
      "                                                                                                  \n",
      " dense_16 (Dense)               (None, 1)            101         ['gru_8[0][0]']                  \n",
      "                                                                                                  \n",
      " input_12 (InputLayer)          [(None, 17)]         0           []                               \n",
      "                                                                                                  \n",
      " concatenate_2 (Concatenate)    (None, 21)           0           ['dense_13[0][0]',               \n",
      "                                                                  'dense_14[0][0]',               \n",
      "                                                                  'dense_15[0][0]',               \n",
      "                                                                  'dense_16[0][0]',               \n",
      "                                                                  'input_12[0][0]']               \n",
      "                                                                                                  \n",
      " dense_17 (Dense)               (None, 256)          5632        ['concatenate_2[0][0]']          \n",
      "                                                                                                  \n",
      " dense_18 (Dense)               (None, 128)          32896       ['dense_17[0][0]']               \n",
      "                                                                                                  \n",
      " dense_19 (Dense)               (None, 64)           8256        ['dense_18[0][0]']               \n",
      "                                                                                                  \n",
      " dense_20 (Dense)               (None, 1)            65          ['dense_19[0][0]']               \n",
      "                                                                                                  \n",
      "==================================================================================================\n",
      "Total params: 2,696,353\n",
      "Trainable params: 2,696,353\n",
      "Non-trainable params: 0\n",
      "__________________________________________________________________________________________________\n"
     ]
    }
   ],
   "source": [
    "input_name = Input(shape=(name_pad_len, ))\n",
    "name_embeddings = Embedding(name_vocab_size, output_dim=50,\n",
    "                     embeddings_initializer = Constant(name_glove_weights),\n",
    "                     input_length = name_pad_len, trainable = True)(input_name) \n",
    "GRU_name = GRU(25)(name_embeddings)\n",
    "dense_name = Dense(1, activation = \"linear\")(GRU_name)\n",
    "\n",
    "\n",
    "input_summary = Input(shape = (summary_pad_len, ))\n",
    "summary_embeddings = Embedding(summary_vocab_size, output_dim=50,\n",
    "                     embeddings_initializer = Constant(summary_glove_weights),\n",
    "                     input_length = summary_pad_len, trainable = True)(input_summary)\n",
    "GRU_summary = GRU(100)(summary_embeddings)\n",
    "dense_summary = Dense(1, activation = \"linear\")(GRU_summary)\n",
    "\n",
    "\n",
    "input_description = Input(shape = (description_pad_len, ))\n",
    "description_embeddings = Embedding(description_vocab_size, output_dim=50,\n",
    "                     embeddings_initializer = Constant(description_glove_weights),\n",
    "                     input_length = description_pad_len, trainable = True)(input_description)\n",
    "GRU_description = GRU(100)(description_embeddings)\n",
    "dense_description = Dense(1, activation = \"linear\")(GRU_description)\n",
    "\n",
    "\n",
    "input_amenities = Input(shape = (amenities_pad_len, ))\n",
    "amenities_embeddings = Embedding(amenities_vocab_size, output_dim=50,\n",
    "                     embeddings_initializer = Constant(amenities_glove_weights),\n",
    "                     input_length = description_pad_len, trainable = True)(input_amenities)\n",
    "GRU_amenities = GRU(100)(amenities_embeddings)\n",
    "dense_amenities = Dense(1, activation = \"linear\")(GRU_amenities)\n",
    "\n",
    "\n",
    "input_nontext = Input(shape=(train.shape[1],))\n",
    "\n",
    "\n",
    "# Concatenate\n",
    "concat = concatenate([dense_name, dense_summary, dense_description, dense_amenities, input_nontext])\n",
    "dense_full1 = Dense(256, activation = \"relu\")(concat)\n",
    "dense_full2 = Dense(128, activation = \"relu\")(dense_full1)\n",
    "dense_full3 = Dense(64, activation = \"relu\")(dense_full2)\n",
    "output_layer = Dense(1, activation = \"linear\")(dense_full3)\n",
    "\n",
    "model = Model(inputs=[input_name, input_summary, input_description, input_amenities, input_nontext], outputs = output_layer)\n",
    "model.summary()"
   ]
  },
  {
   "cell_type": "code",
   "execution_count": 63,
   "id": "bd540bb3",
   "metadata": {
    "scrolled": false
   },
   "outputs": [
    {
     "name": "stdout",
     "output_type": "stream",
     "text": [
      "Epoch 1/25\n",
      "324/324 [==============================] - 3499s 11s/step - loss: 3137.8613 - mse: 3137.8613 - mae: 34.7104 - val_loss: 2760.3872 - val_mse: 2760.3872 - val_mae: 33.2894\n",
      "Epoch 2/25\n",
      "324/324 [==============================] - 3430s 11s/step - loss: 2528.3140 - mse: 2528.3140 - mae: 31.0423 - val_loss: 2664.8008 - val_mse: 2664.8008 - val_mae: 31.3687\n",
      "Epoch 3/25\n",
      "324/324 [==============================] - 3431s 11s/step - loss: 2216.3806 - mse: 2216.3806 - mae: 29.1086 - val_loss: 2766.3455 - val_mse: 2766.3455 - val_mae: 31.6267\n",
      "Epoch 4/25\n",
      "324/324 [==============================] - 3434s 11s/step - loss: 1985.3951 - mse: 1985.3951 - mae: 27.5033 - val_loss: 2754.1509 - val_mse: 2754.1509 - val_mae: 31.5457\n",
      "Epoch 5/25\n",
      "324/324 [==============================] - ETA: 0s - loss: 1841.8385 - mse: 1841.8385 - mae: 26.5433 Restoring model weights from the end of the best epoch: 2.\n",
      "324/324 [==============================] - 3417s 11s/step - loss: 1841.8385 - mse: 1841.8385 - mae: 26.5433 - val_loss: 2812.0457 - val_mse: 2812.0457 - val_mae: 31.4987\n",
      "Epoch 5: early stopping\n",
      "17211.206006765366\n"
     ]
    }
   ],
   "source": [
    "opt = keras.optimizers.Adam(learning_rate=0.01) \n",
    "\n",
    "model.compile(optimizer = opt, loss='mean_squared_error', metrics=['mse', 'mae'])\n",
    "\n",
    "start = time.time()\n",
    "\n",
    "batch_size = 128\n",
    "epochs = 25\n",
    "\n",
    "callbacks = [EarlyStopping(monitor='val_loss', patience=3, verbose=1, min_delta=0.01, restore_best_weights=True)]\n",
    "\n",
    "story = model.fit([padded_train_name, padded_train_summary, padded_train_description, padded_train_amenities, train], y,\n",
    "                    batch_size = batch_size,\n",
    "                    epochs = epochs,\n",
    "                    verbose = 1,\n",
    "                    validation_split = 0.25,\n",
    "                  callbacks = callbacks) \n",
    "\n",
    "end = time.time()\n",
    "\n",
    "print(end - start)"
   ]
  },
  {
   "cell_type": "markdown",
   "id": "88519c33",
   "metadata": {},
   "source": [
    "Finally, the predictions are produced and concatenate with test_listing_id into the format required for submission and saved as a csv file."
   ]
  },
  {
   "cell_type": "code",
   "execution_count": 64,
   "id": "cd716262",
   "metadata": {
    "scrolled": true
   },
   "outputs": [
    {
     "name": "stdout",
     "output_type": "stream",
     "text": [
      "931/931 [==============================] - 424s 454ms/step\n"
     ]
    }
   ],
   "source": [
    "gru_test_prediction = model.predict([padded_test_name, padded_test_summary, padded_test_description, padded_test_amenities, test])\n",
    "gru_test_prediction = pd.DataFrame(gru_test_prediction, columns = [\"price\"])\n",
    "gru_test_result = pd.concat([test_listing_id, gru_test_prediction], axis = 1)"
   ]
  },
  {
   "cell_type": "code",
   "execution_count": 65,
   "id": "36a030f6",
   "metadata": {},
   "outputs": [],
   "source": [
    "gru_test_result.to_csv(\"C:/Users/felix/OneDrive/Desktop/ADAMS kaggle/gru_test_prediction.csv\", index = False)"
   ]
  },
  {
   "cell_type": "markdown",
   "id": "87648e9d",
   "metadata": {},
   "source": [
    "# 7. Conclusion"
   ]
  },
  {
   "cell_type": "markdown",
   "id": "41190662",
   "metadata": {},
   "source": [
    "Through this assignment, it could be observed that the inclusion of NLP techniques and neural networks improved the prediction of price using non-text and text features.\n",
    "\n",
    "It is clear that there are models that could perform better than the one shown here, for the improvement of data preparation, the non-english text could be translated into english instead of simply discarding them (in the case of reviews) or replacing them with 'non-english' (those in train data). The images from url links could also be included by using Convolutional Neural Network (CNN). Both Longtitude anf Latitude could also be used to determine the more exact location of the airbnb listing and whether it is a more expensive are (which can increase price prediction).\n",
    "\n",
    "Given the time and computational power constraint, not all possibilities are being explored but overall it has been a great learning experience, learning the application of NLP techniques and Neural Networks working with real world data."
   ]
  }
 ],
 "metadata": {
  "kernelspec": {
   "display_name": "Python 3 (ipykernel)",
   "language": "python",
   "name": "python3"
  },
  "language_info": {
   "codemirror_mode": {
    "name": "ipython",
    "version": 3
   },
   "file_extension": ".py",
   "mimetype": "text/x-python",
   "name": "python",
   "nbconvert_exporter": "python",
   "pygments_lexer": "ipython3",
   "version": "3.9.12"
  }
 },
 "nbformat": 4,
 "nbformat_minor": 5
}
